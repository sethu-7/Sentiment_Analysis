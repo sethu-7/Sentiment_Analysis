{
  "nbformat": 4,
  "nbformat_minor": 0,
  "metadata": {
    "colab": {
      "provenance": [],
      "gpuType": "T4",
      "mount_file_id": "1AZIDt3YDNJ4lEh42QBkuyibJpML56FLX",
      "authorship_tag": "ABX9TyMNgZSLks0Koui8ov3tROE+",
      "include_colab_link": true
    },
    "kernelspec": {
      "name": "python3",
      "display_name": "Python 3"
    },
    "language_info": {
      "name": "python"
    },
    "accelerator": "GPU"
  },
  "cells": [
    {
      "cell_type": "markdown",
      "metadata": {
        "id": "view-in-github",
        "colab_type": "text"
      },
      "source": [
        "<a href=\"https://colab.research.google.com/github/sethu-7/Sentiment_Analysis/blob/main/Embeddings_Merge.ipynb\" target=\"_parent\"><img src=\"https://colab.research.google.com/assets/colab-badge.svg\" alt=\"Open In Colab\"/></a>"
      ]
    },
    {
      "cell_type": "code",
      "execution_count": null,
      "metadata": {
        "id": "kOQ2U_kHNDEk"
      },
      "outputs": [],
      "source": [
        "import pandas as pd\n",
        "import numpy as np"
      ]
    },
    {
      "cell_type": "code",
      "source": [
        "data=pd.read_csv(\"/content/drive/MyDrive/honors/amazon_reviews_us_Books_v1_02.tsv\",sep='\\t',on_bad_lines='skip')"
      ],
      "metadata": {
        "id": "YBFMvXvFNjyx"
      },
      "execution_count": null,
      "outputs": []
    },
    {
      "cell_type": "code",
      "source": [
        "data=data.head(10000)\n",
        "data.head()\n",
        "data.describe()"
      ],
      "metadata": {
        "colab": {
          "base_uri": "https://localhost:8080/",
          "height": 300
        },
        "id": "lBmZd5TbNmoe",
        "outputId": "768d5fcf-49d2-49d8-e9de-2047f24d19f0"
      },
      "execution_count": null,
      "outputs": [
        {
          "output_type": "execute_result",
          "data": {
            "text/plain": [
              "        customer_id  product_parent   star_rating  helpful_votes   total_votes\n",
              "count  1.000000e+04    1.000000e+04  10000.000000   10000.000000  10000.000000\n",
              "mean   3.366844e+07    4.958554e+08      4.198500       9.328500     12.905700\n",
              "std    1.531824e+07    2.889539e+08      1.228678      26.490703     29.973029\n",
              "min    1.206538e+07    6.430000e+03      1.000000       0.000000      0.000000\n",
              "25%    1.701130e+07    2.458308e+08      4.000000       2.000000      3.000000\n",
              "50%    3.510044e+07    4.918668e+08      5.000000       4.000000      6.000000\n",
              "75%    5.006822e+07    7.454314e+08      5.000000      10.000000     14.000000\n",
              "max    5.309657e+07    9.999939e+08      5.000000    1150.000000   1228.000000"
            ],
            "text/html": [
              "\n",
              "  <div id=\"df-a2602c10-d9a6-4a49-98b6-7f88c3fae2cb\" class=\"colab-df-container\">\n",
              "    <div>\n",
              "<style scoped>\n",
              "    .dataframe tbody tr th:only-of-type {\n",
              "        vertical-align: middle;\n",
              "    }\n",
              "\n",
              "    .dataframe tbody tr th {\n",
              "        vertical-align: top;\n",
              "    }\n",
              "\n",
              "    .dataframe thead th {\n",
              "        text-align: right;\n",
              "    }\n",
              "</style>\n",
              "<table border=\"1\" class=\"dataframe\">\n",
              "  <thead>\n",
              "    <tr style=\"text-align: right;\">\n",
              "      <th></th>\n",
              "      <th>customer_id</th>\n",
              "      <th>product_parent</th>\n",
              "      <th>star_rating</th>\n",
              "      <th>helpful_votes</th>\n",
              "      <th>total_votes</th>\n",
              "    </tr>\n",
              "  </thead>\n",
              "  <tbody>\n",
              "    <tr>\n",
              "      <th>count</th>\n",
              "      <td>1.000000e+04</td>\n",
              "      <td>1.000000e+04</td>\n",
              "      <td>10000.000000</td>\n",
              "      <td>10000.000000</td>\n",
              "      <td>10000.000000</td>\n",
              "    </tr>\n",
              "    <tr>\n",
              "      <th>mean</th>\n",
              "      <td>3.366844e+07</td>\n",
              "      <td>4.958554e+08</td>\n",
              "      <td>4.198500</td>\n",
              "      <td>9.328500</td>\n",
              "      <td>12.905700</td>\n",
              "    </tr>\n",
              "    <tr>\n",
              "      <th>std</th>\n",
              "      <td>1.531824e+07</td>\n",
              "      <td>2.889539e+08</td>\n",
              "      <td>1.228678</td>\n",
              "      <td>26.490703</td>\n",
              "      <td>29.973029</td>\n",
              "    </tr>\n",
              "    <tr>\n",
              "      <th>min</th>\n",
              "      <td>1.206538e+07</td>\n",
              "      <td>6.430000e+03</td>\n",
              "      <td>1.000000</td>\n",
              "      <td>0.000000</td>\n",
              "      <td>0.000000</td>\n",
              "    </tr>\n",
              "    <tr>\n",
              "      <th>25%</th>\n",
              "      <td>1.701130e+07</td>\n",
              "      <td>2.458308e+08</td>\n",
              "      <td>4.000000</td>\n",
              "      <td>2.000000</td>\n",
              "      <td>3.000000</td>\n",
              "    </tr>\n",
              "    <tr>\n",
              "      <th>50%</th>\n",
              "      <td>3.510044e+07</td>\n",
              "      <td>4.918668e+08</td>\n",
              "      <td>5.000000</td>\n",
              "      <td>4.000000</td>\n",
              "      <td>6.000000</td>\n",
              "    </tr>\n",
              "    <tr>\n",
              "      <th>75%</th>\n",
              "      <td>5.006822e+07</td>\n",
              "      <td>7.454314e+08</td>\n",
              "      <td>5.000000</td>\n",
              "      <td>10.000000</td>\n",
              "      <td>14.000000</td>\n",
              "    </tr>\n",
              "    <tr>\n",
              "      <th>max</th>\n",
              "      <td>5.309657e+07</td>\n",
              "      <td>9.999939e+08</td>\n",
              "      <td>5.000000</td>\n",
              "      <td>1150.000000</td>\n",
              "      <td>1228.000000</td>\n",
              "    </tr>\n",
              "  </tbody>\n",
              "</table>\n",
              "</div>\n",
              "    <div class=\"colab-df-buttons\">\n",
              "\n",
              "  <div class=\"colab-df-container\">\n",
              "    <button class=\"colab-df-convert\" onclick=\"convertToInteractive('df-a2602c10-d9a6-4a49-98b6-7f88c3fae2cb')\"\n",
              "            title=\"Convert this dataframe to an interactive table.\"\n",
              "            style=\"display:none;\">\n",
              "\n",
              "  <svg xmlns=\"http://www.w3.org/2000/svg\" height=\"24px\" viewBox=\"0 -960 960 960\">\n",
              "    <path d=\"M120-120v-720h720v720H120Zm60-500h600v-160H180v160Zm220 220h160v-160H400v160Zm0 220h160v-160H400v160ZM180-400h160v-160H180v160Zm440 0h160v-160H620v160ZM180-180h160v-160H180v160Zm440 0h160v-160H620v160Z\"/>\n",
              "  </svg>\n",
              "    </button>\n",
              "\n",
              "  <style>\n",
              "    .colab-df-container {\n",
              "      display:flex;\n",
              "      gap: 12px;\n",
              "    }\n",
              "\n",
              "    .colab-df-convert {\n",
              "      background-color: #E8F0FE;\n",
              "      border: none;\n",
              "      border-radius: 50%;\n",
              "      cursor: pointer;\n",
              "      display: none;\n",
              "      fill: #1967D2;\n",
              "      height: 32px;\n",
              "      padding: 0 0 0 0;\n",
              "      width: 32px;\n",
              "    }\n",
              "\n",
              "    .colab-df-convert:hover {\n",
              "      background-color: #E2EBFA;\n",
              "      box-shadow: 0px 1px 2px rgba(60, 64, 67, 0.3), 0px 1px 3px 1px rgba(60, 64, 67, 0.15);\n",
              "      fill: #174EA6;\n",
              "    }\n",
              "\n",
              "    .colab-df-buttons div {\n",
              "      margin-bottom: 4px;\n",
              "    }\n",
              "\n",
              "    [theme=dark] .colab-df-convert {\n",
              "      background-color: #3B4455;\n",
              "      fill: #D2E3FC;\n",
              "    }\n",
              "\n",
              "    [theme=dark] .colab-df-convert:hover {\n",
              "      background-color: #434B5C;\n",
              "      box-shadow: 0px 1px 3px 1px rgba(0, 0, 0, 0.15);\n",
              "      filter: drop-shadow(0px 1px 2px rgba(0, 0, 0, 0.3));\n",
              "      fill: #FFFFFF;\n",
              "    }\n",
              "  </style>\n",
              "\n",
              "    <script>\n",
              "      const buttonEl =\n",
              "        document.querySelector('#df-a2602c10-d9a6-4a49-98b6-7f88c3fae2cb button.colab-df-convert');\n",
              "      buttonEl.style.display =\n",
              "        google.colab.kernel.accessAllowed ? 'block' : 'none';\n",
              "\n",
              "      async function convertToInteractive(key) {\n",
              "        const element = document.querySelector('#df-a2602c10-d9a6-4a49-98b6-7f88c3fae2cb');\n",
              "        const dataTable =\n",
              "          await google.colab.kernel.invokeFunction('convertToInteractive',\n",
              "                                                    [key], {});\n",
              "        if (!dataTable) return;\n",
              "\n",
              "        const docLinkHtml = 'Like what you see? Visit the ' +\n",
              "          '<a target=\"_blank\" href=https://colab.research.google.com/notebooks/data_table.ipynb>data table notebook</a>'\n",
              "          + ' to learn more about interactive tables.';\n",
              "        element.innerHTML = '';\n",
              "        dataTable['output_type'] = 'display_data';\n",
              "        await google.colab.output.renderOutput(dataTable, element);\n",
              "        const docLink = document.createElement('div');\n",
              "        docLink.innerHTML = docLinkHtml;\n",
              "        element.appendChild(docLink);\n",
              "      }\n",
              "    </script>\n",
              "  </div>\n",
              "\n",
              "\n",
              "<div id=\"df-4a1b101f-8de5-4791-94db-a6cb168b6f3d\">\n",
              "  <button class=\"colab-df-quickchart\" onclick=\"quickchart('df-4a1b101f-8de5-4791-94db-a6cb168b6f3d')\"\n",
              "            title=\"Suggest charts.\"\n",
              "            style=\"display:none;\">\n",
              "\n",
              "<svg xmlns=\"http://www.w3.org/2000/svg\" height=\"24px\"viewBox=\"0 0 24 24\"\n",
              "     width=\"24px\">\n",
              "    <g>\n",
              "        <path d=\"M19 3H5c-1.1 0-2 .9-2 2v14c0 1.1.9 2 2 2h14c1.1 0 2-.9 2-2V5c0-1.1-.9-2-2-2zM9 17H7v-7h2v7zm4 0h-2V7h2v10zm4 0h-2v-4h2v4z\"/>\n",
              "    </g>\n",
              "</svg>\n",
              "  </button>\n",
              "\n",
              "<style>\n",
              "  .colab-df-quickchart {\n",
              "    background-color: #E8F0FE;\n",
              "    border: none;\n",
              "    border-radius: 50%;\n",
              "    cursor: pointer;\n",
              "    display: none;\n",
              "    fill: #1967D2;\n",
              "    height: 32px;\n",
              "    padding: 0 0 0 0;\n",
              "    width: 32px;\n",
              "  }\n",
              "\n",
              "  .colab-df-quickchart:hover {\n",
              "    background-color: #E2EBFA;\n",
              "    box-shadow: 0px 1px 2px rgba(60, 64, 67, 0.3), 0px 1px 3px 1px rgba(60, 64, 67, 0.15);\n",
              "    fill: #174EA6;\n",
              "  }\n",
              "\n",
              "  [theme=dark] .colab-df-quickchart {\n",
              "    background-color: #3B4455;\n",
              "    fill: #D2E3FC;\n",
              "  }\n",
              "\n",
              "  [theme=dark] .colab-df-quickchart:hover {\n",
              "    background-color: #434B5C;\n",
              "    box-shadow: 0px 1px 3px 1px rgba(0, 0, 0, 0.15);\n",
              "    filter: drop-shadow(0px 1px 2px rgba(0, 0, 0, 0.3));\n",
              "    fill: #FFFFFF;\n",
              "  }\n",
              "</style>\n",
              "\n",
              "  <script>\n",
              "    async function quickchart(key) {\n",
              "      const charts = await google.colab.kernel.invokeFunction(\n",
              "          'suggestCharts', [key], {});\n",
              "    }\n",
              "    (() => {\n",
              "      let quickchartButtonEl =\n",
              "        document.querySelector('#df-4a1b101f-8de5-4791-94db-a6cb168b6f3d button');\n",
              "      quickchartButtonEl.style.display =\n",
              "        google.colab.kernel.accessAllowed ? 'block' : 'none';\n",
              "    })();\n",
              "  </script>\n",
              "</div>\n",
              "    </div>\n",
              "  </div>\n"
            ]
          },
          "metadata": {},
          "execution_count": 4
        }
      ]
    },
    {
      "cell_type": "code",
      "source": [
        "X=data['review_body']\n",
        "y=data['star_rating']"
      ],
      "metadata": {
        "id": "WVY8OdwOOXn3"
      },
      "execution_count": null,
      "outputs": []
    },
    {
      "cell_type": "code",
      "source": [
        "y.head()"
      ],
      "metadata": {
        "colab": {
          "base_uri": "https://localhost:8080/"
        },
        "id": "WLwfqT7nja8i",
        "outputId": "4968f38f-1011-435d-fc40-15c012aaa778"
      },
      "execution_count": null,
      "outputs": [
        {
          "output_type": "execute_result",
          "data": {
            "text/plain": [
              "0    4.0\n",
              "1    3.0\n",
              "2    4.0\n",
              "3    5.0\n",
              "4    4.0\n",
              "Name: star_rating, dtype: float64"
            ]
          },
          "metadata": {},
          "execution_count": 6
        }
      ]
    },
    {
      "cell_type": "code",
      "source": [
        "yi=np.array(data['star_rating'])\n",
        "for i in range (0,len(y)):\n",
        "  if(yi[i]>2.5):\n",
        "    np.append(yi[i], 1)\n",
        "  else:\n",
        "    np.append(yi[i], 0)"
      ],
      "metadata": {
        "id": "W3ROJ8NQiIIs"
      },
      "execution_count": null,
      "outputs": []
    },
    {
      "cell_type": "code",
      "source": [
        "split_ratio = 0.8\n",
        "split_idx = int(len(X) * split_ratio)\n",
        "\n",
        "train_texts =X[:split_idx]\n",
        "test_texts = X[split_idx:]\n",
        "train_labels = y[:split_idx]\n",
        "test_labels = y[split_idx:]\n",
        "train_labelsi = yi[:split_idx]\n",
        "test_labelsi = yi[split_idx:]"
      ],
      "metadata": {
        "id": "_xASHn0dhZN2"
      },
      "execution_count": null,
      "outputs": []
    },
    {
      "cell_type": "markdown",
      "source": [
        "Loading glove embedding"
      ],
      "metadata": {
        "id": "np6FG1f_PFR8"
      }
    },
    {
      "cell_type": "code",
      "source": [
        "glove_path = \"/content/drive/MyDrive/honors/glove.42B.300d.txt\"\n",
        "\n",
        "glove_vectors = {}\n",
        "with open(glove_path, 'r', encoding='utf-8') as f:\n",
        "    for line in f:\n",
        "        parts = line.split()\n",
        "        word = parts[0]\n",
        "        embedding = np.array(parts[1:], dtype=np.float32)\n",
        "        glove_vectors[word] = embedding\n",
        "\n",
        "embedding_dim=300\n",
        "glove_emb_test=[]\n",
        "glove_emb_train=[]\n",
        "\n",
        "for text in train_texts:\n",
        "    words = text.split()\n",
        "    embeddings = [glove_vectors.get(word, np.zeros(embedding_dim)) for word in words]\n",
        "    avg_embedding = np.mean(embeddings, axis=0)\n",
        "    glove_emb_train.append(avg_embedding)\n",
        "\n",
        "for text in test_texts:\n",
        "    words = text.split()\n",
        "    embeddings = [glove_vectors.get(word, np.zeros(embedding_dim)) for word in words]\n",
        "    avg_embedding = np.mean(embeddings, axis=0)\n",
        "    glove_emb_test.append(avg_embedding)\n",
        "\n",
        "glove_emb_test=np.array(glove_emb_test)\n",
        "glove_emb_train=np.array(glove_emb_train)"
      ],
      "metadata": {
        "id": "FsLkej69Oxcd"
      },
      "execution_count": null,
      "outputs": []
    },
    {
      "cell_type": "code",
      "source": [
        " print(glove_emb_train[:50])\n"
      ],
      "metadata": {
        "colab": {
          "base_uri": "https://localhost:8080/"
        },
        "id": "FQv1dbU0Utx5",
        "outputId": "d042269f-1bd5-4d8d-feff-98b80beb023b"
      },
      "execution_count": null,
      "outputs": [
        {
          "output_type": "stream",
          "name": "stdout",
          "text": [
            "[[-0.02398167  0.01041366 -0.06166591 ... -0.10772758  0.08006375\n",
            "   0.07268027]\n",
            " [-0.09651737  0.01550689 -0.12645607 ... -0.1304974   0.01916974\n",
            "  -0.05169478]\n",
            " [ 0.00812602 -0.01540322 -0.06767794 ... -0.01836392 -0.0077379\n",
            "   0.11244501]\n",
            " ...\n",
            " [-0.02482173  0.00672547 -0.0807268  ... -0.09419221  0.00274962\n",
            "   0.00209475]\n",
            " [ 0.00068361 -0.03925979 -0.05448444 ... -0.0555802   0.03301494\n",
            "  -0.04323835]\n",
            " [-0.03166862  0.03337351 -0.05893276 ... -0.08973011  0.01903575\n",
            "   0.01087438]]\n"
          ]
        }
      ]
    },
    {
      "cell_type": "code",
      "source": [
        " print(glove_emb_test[:50])\n"
      ],
      "metadata": {
        "colab": {
          "base_uri": "https://localhost:8080/"
        },
        "id": "eul4CJ59iI82",
        "outputId": "c3993904-4b76-4b0f-8c09-ac9caf0bc641"
      },
      "execution_count": null,
      "outputs": [
        {
          "output_type": "stream",
          "name": "stdout",
          "text": [
            "[[ 0.00025652  0.08036891 -0.06820914 ... -0.00657104  0.00857716\n",
            "   0.0071799 ]\n",
            " [-0.05479132  0.0068572  -0.04502822 ... -0.0880372   0.02145877\n",
            "   0.02564279]\n",
            " [-0.05601588  0.01859864 -0.01857741 ... -0.06459031 -0.03327606\n",
            "  -0.00741164]\n",
            " ...\n",
            " [-0.04427601 -0.00400419 -0.08346788 ... -0.10847833 -0.02384027\n",
            "   0.03741937]\n",
            " [-0.03091971  0.02208335 -0.0664775  ... -0.03019231  0.01333135\n",
            "  -0.03481897]\n",
            " [-0.03819503 -0.03026918 -0.08584798 ... -0.00681757  0.06801972\n",
            "   0.10522094]]\n"
          ]
        }
      ]
    },
    {
      "cell_type": "markdown",
      "source": [
        "Fast text model loading"
      ],
      "metadata": {
        "id": "zcft0hg-Pg9J"
      }
    },
    {
      "cell_type": "code",
      "source": [
        "from gensim.models import KeyedVectors\n",
        "\n",
        "# Load FastText pre-trained word vectors from .vec file\n",
        "fasttext_model = KeyedVectors.load_word2vec_format('/content/drive/MyDrive/honors/wiki-news-300d-1M.vec')\n",
        "\n",
        "# Generate FastText embeddings for the data\n",
        "def text_to_embedding(text):\n",
        "    words = text.split()\n",
        "    embeddings = [fasttext_model[word] for word in words if word in fasttext_model]\n",
        "    if embeddings:\n",
        "        return np.mean(embeddings, axis=0)\n",
        "    return np.zeros(fasttext_model.vector_size)\n",
        "\n",
        "fast_emb_train = np.array([text_to_embedding(text) for text in train_texts])\n",
        "fast_emb_test = np.array([text_to_embedding(text) for text in test_texts])"
      ],
      "metadata": {
        "id": "RJbKqNmVPP9I"
      },
      "execution_count": null,
      "outputs": []
    },
    {
      "cell_type": "code",
      "source": [
        "print(fast_emb_train[:50])"
      ],
      "metadata": {
        "colab": {
          "base_uri": "https://localhost:8080/"
        },
        "id": "985x7J2TU351",
        "outputId": "773aae26-4616-43e6-a6ee-ce29900e45a3"
      },
      "execution_count": null,
      "outputs": [
        {
          "output_type": "stream",
          "name": "stdout",
          "text": [
            "[[-0.00477119 -0.00086483 -0.02883941 ...  0.16027713  0.01193644\n",
            "  -0.00390424]\n",
            " [-0.05192433  0.00345405 -0.03917568 ...  0.1738838  -0.00194865\n",
            "   0.00366757]\n",
            " [-0.00672941 -0.02272353 -0.00089412 ...  0.16864118  0.06771763\n",
            "  -0.04021765]\n",
            " ...\n",
            " [-0.02970001  0.00328485 -0.01524243 ...  0.17768385  0.00806667\n",
            "  -0.0074303 ]\n",
            " [-0.01079264  0.01472206 -0.01257647 ...  0.1526588   0.00235735\n",
            "  -0.01568235]\n",
            " [-0.00569386  0.00175524 -0.02135959 ...  0.14883752  0.01874837\n",
            "  -0.01827888]]\n"
          ]
        }
      ]
    },
    {
      "cell_type": "code",
      "source": [
        "print(fast_emb_test[:50])"
      ],
      "metadata": {
        "colab": {
          "base_uri": "https://localhost:8080/"
        },
        "id": "xEZj9j1dib2B",
        "outputId": "ff8eeadc-a55c-42bf-f4f0-3a7e6f4055c6"
      },
      "execution_count": null,
      "outputs": [
        {
          "output_type": "stream",
          "name": "stdout",
          "text": [
            "[[-0.0369475   0.004645   -0.0194475  ...  0.18132502  0.0053225\n",
            "  -0.01691   ]\n",
            " [ 0.01614696 -0.01960987 -0.01762998 ...  0.11896304  0.00315199\n",
            "  -0.01226582]\n",
            " [-0.00233875  0.01168375 -0.01551125 ...  0.12738     0.003615\n",
            "  -0.01900375]\n",
            " ...\n",
            " [-0.00339821 -0.00300179 -0.01936607 ...  0.14970894 -0.01272768\n",
            "  -0.02080535]\n",
            " [-0.00754878  0.00572927 -0.03167317 ...  0.14505123 -0.00193902\n",
            "  -0.02845122]\n",
            " [ 0.00394314  0.00916863 -0.0306549  ...  0.15498039  0.01934706\n",
            "  -0.03245294]]\n"
          ]
        }
      ]
    },
    {
      "cell_type": "code",
      "source": [
        "# from gensim.models import Word2Vec\n",
        "# import numpy as np\n",
        "\n",
        "# # Assuming 'X' is a list of tokenized texts\n",
        "\n",
        "# # Create a Word2Vec model\n",
        "# tokenized_texts = [text.split() for text in X]\n",
        "# word2vec_model = Word2Vec(sentences=tokenized_texts, vector_size=100, window=5, min_count=1, sg=1)\n",
        "\n",
        "# # Access the word vectors using the wv attribute\n",
        "# word_vectors = word2vec_model.wv.vectors\n",
        "\n",
        "# # Print the first 50 word vectors\n",
        "# print(word_vectors[:50])\n",
        "\n",
        "# import gensim.downloader as api\n",
        "\n",
        "# word2vec_model= api.load(\"word2vec-google-news-300\")"
      ],
      "metadata": {
        "id": "U1F2htWjQ669"
      },
      "execution_count": null,
      "outputs": []
    },
    {
      "cell_type": "code",
      "source": [
        "# word_arr=np.array(word_vectors)\n",
        "# word2vec_model.save('/content/drive/MyDrive/honors/w2v.kv')"
      ],
      "metadata": {
        "id": "C8oYQb2i6v8C"
      },
      "execution_count": null,
      "outputs": []
    },
    {
      "cell_type": "code",
      "source": [
        "from gensim.models import Word2Vec\n",
        "\n",
        "tokenized_texts1 = [text.split() for text in train_texts]\n",
        "tokenized_texts2 = [text.split() for text in test_texts]\n",
        "\n",
        "tokenized_texts=np.append(tokenized_texts1,tokenized_texts2)\n",
        "\n",
        "embedding_model = Word2Vec(sentences=tokenized_texts, vector_size=300, window=5, min_count=1, sg=1)  # Adjust parameters\n",
        "\n",
        "\n",
        "# Function to average word vectors for a text\n",
        "def average_word_vectors(words, model):\n",
        "    vectors = [model.wv[word] for word in words if word in model.wv]\n",
        "    if not vectors:\n",
        "        return np.zeros(model.vector_size)\n",
        "    return np.mean(vectors, axis=0)\n",
        "\n",
        "\n",
        "word_train_emb = [average_word_vectors(text.split(), embedding_model) for text in train_texts]\n",
        "word_test_emb = [average_word_vectors(text.split(), embedding_model) for text in test_texts]\n",
        "\n",
        "\n",
        "# def text_to_embedding(text):\n",
        "#     words = text.split()\n",
        "#     embeddings = [fasttext_model[word] for word in words if word in fasttext_model]\n",
        "#     if embeddings:\n",
        "#         return np.mean(embeddings, axis=0)\n",
        "#     return np.zeros(fasttext_model.vector_size)\n",
        "\n",
        "# word_emb_train = np.array([text_to_embedding(text) for text in train_texts])\n",
        "# word_emb_test = np.array([text_to_embedding(text) for text in test_texts])\n"
      ],
      "metadata": {
        "colab": {
          "base_uri": "https://localhost:8080/"
        },
        "id": "nbVgzKScm0CU",
        "outputId": "a98ef139-6d6e-4c0f-f940-ab5ab7af291a"
      },
      "execution_count": null,
      "outputs": [
        {
          "output_type": "stream",
          "name": "stderr",
          "text": [
            "/usr/local/lib/python3.10/dist-packages/numpy/lib/function_base.py:5438: VisibleDeprecationWarning: Creating an ndarray from ragged nested sequences (which is a list-or-tuple of lists-or-tuples-or ndarrays with different lengths or shapes) is deprecated. If you meant to do this, you must specify 'dtype=object' when creating the ndarray.\n",
            "  arr = asanyarray(arr)\n",
            "/usr/local/lib/python3.10/dist-packages/numpy/core/fromnumeric.py:1859: VisibleDeprecationWarning: Creating an ndarray from ragged nested sequences (which is a list-or-tuple of lists-or-tuples-or ndarrays with different lengths or shapes) is deprecated. If you meant to do this, you must specify 'dtype=object' when creating the ndarray.\n",
            "  return asanyarray(a).ravel(order=order)\n"
          ]
        }
      ]
    },
    {
      "cell_type": "code",
      "source": [
        "add_emb_train=fast_emb_train+glove_emb_train+word_train_emb\n",
        "add_emb_test=fast_emb_test+glove_emb_test+word_test_emb"
      ],
      "metadata": {
        "id": "ERtN4a-psnx-"
      },
      "execution_count": null,
      "outputs": []
    },
    {
      "cell_type": "code",
      "source": [
        "add_emb_train.shape"
      ],
      "metadata": {
        "colab": {
          "base_uri": "https://localhost:8080/"
        },
        "id": "QbHJve4_8K4c",
        "outputId": "d24549ae-6670-445c-c54d-e9952f9d5d6c"
      },
      "execution_count": null,
      "outputs": [
        {
          "output_type": "execute_result",
          "data": {
            "text/plain": [
              "(8000, 300)"
            ]
          },
          "metadata": {},
          "execution_count": 19
        }
      ]
    },
    {
      "cell_type": "code",
      "source": [
        "add_emb_test.shape"
      ],
      "metadata": {
        "colab": {
          "base_uri": "https://localhost:8080/"
        },
        "id": "0KhlJGTni80v",
        "outputId": "48eceb18-3081-4f1f-d019-22bd1b876a97"
      },
      "execution_count": null,
      "outputs": [
        {
          "output_type": "execute_result",
          "data": {
            "text/plain": [
              "(2000, 300)"
            ]
          },
          "metadata": {},
          "execution_count": 20
        }
      ]
    },
    {
      "cell_type": "code",
      "source": [
        "# addf_emb=add_emb+word_arr\n",
        "\n",
        "\n",
        "# reshaped_array = word_arr.reshape((300, 10000))"
      ],
      "metadata": {
        "id": "KIaNPk6T54Dp"
      },
      "execution_count": null,
      "outputs": []
    },
    {
      "cell_type": "code",
      "source": [],
      "metadata": {
        "id": "Vratqmgp61XG"
      },
      "execution_count": null,
      "outputs": []
    },
    {
      "cell_type": "markdown",
      "source": [
        "PERFORMING ADDIITION OF FAST TEXT AND GLOVE AND USING SVM\n",
        "\n",
        "\n"
      ],
      "metadata": {
        "id": "w0DyXamWmiCI"
      }
    },
    {
      "cell_type": "code",
      "source": [
        "from sklearn.svm import SVC\n",
        "from sklearn.metrics import accuracy_score\n",
        "from sklearn.metrics import classification_report\n",
        "\n",
        "svm_model = SVC(kernel='linear', C=1.0)\n",
        "svm_model.fit(add_emb_train, train_labels)\n",
        "\n",
        "# Make predictions\n",
        "predictions = svm_model.predict(add_emb_test)\n",
        "\n",
        "# Calculate accuracy\n",
        "accuracy = accuracy_score(test_labels, predictions)\n",
        "print(f\"Accuracy using svm: {accuracy:.4f}\")\n",
        "\n",
        "report = classification_report(test_labels, predictions)\n",
        "\n",
        "# Print the report\n",
        "\n",
        "\n",
        "print(report)"
      ],
      "metadata": {
        "colab": {
          "base_uri": "https://localhost:8080/"
        },
        "id": "KLAVh9eMfufI",
        "outputId": "77a227f8-a5b3-4a84-9b1b-28f2540d71b0"
      },
      "execution_count": null,
      "outputs": [
        {
          "output_type": "stream",
          "name": "stdout",
          "text": [
            "Accuracy using svm: 0.6170\n",
            "              precision    recall  f1-score   support\n",
            "\n",
            "         1.0       0.51      0.20      0.28       148\n",
            "         2.0       0.33      0.02      0.04        97\n",
            "         3.0       0.19      0.02      0.03       165\n",
            "         4.0       0.00      0.00      0.00       375\n",
            "         5.0       0.63      0.99      0.77      1215\n",
            "\n",
            "    accuracy                           0.62      2000\n",
            "   macro avg       0.33      0.24      0.22      2000\n",
            "weighted avg       0.45      0.62      0.49      2000\n",
            "\n"
          ]
        }
      ]
    },
    {
      "cell_type": "code",
      "source": [
        "from sklearn.naive_bayes import MultinomialNB\n",
        "from sklearn.metrics import accuracy_score\n",
        "from sklearn.metrics import classification_report\n",
        "\n",
        "# Train a Multinomial Naive Bayes model\n",
        "nb_model = MultinomialNB()\n",
        "add_emb_train=np.abs(add_emb_train)\n",
        "nb_model.fit(add_emb_train, train_labels)\n",
        "\n",
        "# Make predictions\n",
        "predictions = nb_model.predict(add_emb_test)\n",
        "\n",
        "# Calculate accuracy\n",
        "accuracy = accuracy_score(test_labels, predictions)\n",
        "print(f\"Accuracy using fast text embeddings and naive bayes model: {accuracy:.2f}\")\n",
        "\n",
        "report = classification_report(test_labels, predictions)\n",
        "\n",
        "# Print the report\n",
        "\n",
        "\n",
        "print(report)\n"
      ],
      "metadata": {
        "colab": {
          "base_uri": "https://localhost:8080/"
        },
        "id": "GeJl46JYdSpe",
        "outputId": "0b363099-bc9d-4666-f8f6-7e7489c9dcf7"
      },
      "execution_count": null,
      "outputs": [
        {
          "output_type": "stream",
          "name": "stdout",
          "text": [
            "Accuracy using fast text embeddings and naive bayes model: 0.61\n",
            "              precision    recall  f1-score   support\n",
            "\n",
            "         1.0       0.00      0.00      0.00       148\n",
            "         2.0       0.00      0.00      0.00        97\n",
            "         3.0       0.00      0.00      0.00       165\n",
            "         4.0       0.00      0.00      0.00       375\n",
            "         5.0       0.61      1.00      0.76      1215\n",
            "\n",
            "    accuracy                           0.61      2000\n",
            "   macro avg       0.12      0.20      0.15      2000\n",
            "weighted avg       0.37      0.61      0.46      2000\n",
            "\n"
          ]
        },
        {
          "output_type": "stream",
          "name": "stderr",
          "text": [
            "/usr/local/lib/python3.10/dist-packages/sklearn/metrics/_classification.py:1344: UndefinedMetricWarning: Precision and F-score are ill-defined and being set to 0.0 in labels with no predicted samples. Use `zero_division` parameter to control this behavior.\n",
            "  _warn_prf(average, modifier, msg_start, len(result))\n",
            "/usr/local/lib/python3.10/dist-packages/sklearn/metrics/_classification.py:1344: UndefinedMetricWarning: Precision and F-score are ill-defined and being set to 0.0 in labels with no predicted samples. Use `zero_division` parameter to control this behavior.\n",
            "  _warn_prf(average, modifier, msg_start, len(result))\n",
            "/usr/local/lib/python3.10/dist-packages/sklearn/metrics/_classification.py:1344: UndefinedMetricWarning: Precision and F-score are ill-defined and being set to 0.0 in labels with no predicted samples. Use `zero_division` parameter to control this behavior.\n",
            "  _warn_prf(average, modifier, msg_start, len(result))\n"
          ]
        }
      ]
    },
    {
      "cell_type": "code",
      "source": [],
      "metadata": {
        "id": "7oSah5i3hVnh"
      },
      "execution_count": null,
      "outputs": []
    },
    {
      "cell_type": "code",
      "source": [
        "from sklearn.ensemble import RandomForestClassifier\n",
        "from sklearn.metrics import accuracy_score\n",
        "from sklearn.metrics import classification_report\n",
        "\n",
        "# Train a Random Forest model\n",
        "rf_model = RandomForestClassifier(n_estimators=100, random_state=42)\n",
        "rf_model.fit(add_emb_train, train_labelsi)\n",
        "\n",
        "# Make predictions\n",
        "predictions = rf_model.predict(add_emb_test)\n",
        "\n",
        "# Calculate accuracy\n",
        "accuracy = accuracy_score(test_labelsi, predictions)\n",
        "print(f\"Accuracy using rf model: {accuracy:.4f}\")\n",
        "\n",
        "report = classification_report(test_labelsi, predictions)\n",
        "\n",
        "# Print the report\n",
        "\n",
        "\n",
        "print(report)\n"
      ],
      "metadata": {
        "colab": {
          "base_uri": "https://localhost:8080/"
        },
        "id": "6J8AK8ekf_Bs",
        "outputId": "bf05f578-38c1-4bf7-d340-18152433dc77"
      },
      "execution_count": null,
      "outputs": [
        {
          "output_type": "stream",
          "name": "stdout",
          "text": [
            "Accuracy using rf model: 0.4005\n",
            "              precision    recall  f1-score   support\n",
            "\n",
            "         1.0       0.25      0.01      0.03       148\n",
            "         2.0       0.00      0.00      0.00        97\n",
            "         3.0       0.00      0.00      0.00       165\n",
            "         4.0       0.19      0.47      0.27       375\n",
            "         5.0       0.58      0.51      0.54      1215\n",
            "\n",
            "    accuracy                           0.40      2000\n",
            "   macro avg       0.20      0.20      0.17      2000\n",
            "weighted avg       0.40      0.40      0.38      2000\n",
            "\n"
          ]
        },
        {
          "output_type": "stream",
          "name": "stderr",
          "text": [
            "/usr/local/lib/python3.10/dist-packages/sklearn/metrics/_classification.py:1344: UndefinedMetricWarning: Precision and F-score are ill-defined and being set to 0.0 in labels with no predicted samples. Use `zero_division` parameter to control this behavior.\n",
            "  _warn_prf(average, modifier, msg_start, len(result))\n",
            "/usr/local/lib/python3.10/dist-packages/sklearn/metrics/_classification.py:1344: UndefinedMetricWarning: Precision and F-score are ill-defined and being set to 0.0 in labels with no predicted samples. Use `zero_division` parameter to control this behavior.\n",
            "  _warn_prf(average, modifier, msg_start, len(result))\n",
            "/usr/local/lib/python3.10/dist-packages/sklearn/metrics/_classification.py:1344: UndefinedMetricWarning: Precision and F-score are ill-defined and being set to 0.0 in labels with no predicted samples. Use `zero_division` parameter to control this behavior.\n",
            "  _warn_prf(average, modifier, msg_start, len(result))\n"
          ]
        }
      ]
    },
    {
      "cell_type": "code",
      "source": [
        "from sklearn.tree import DecisionTreeClassifier\n",
        "from sklearn.metrics import accuracy_score, classification_report\n",
        "\n",
        "# Train a Decision Tree model\n",
        "dt_model = DecisionTreeClassifier(random_state=42)  # You can adjust hyperparameters here\n",
        "# conc_emb_reduced_train = np.abs(conc_emb_reduced_train)\n",
        "dt_model.fit(add_emb_train, train_labelsi)\n",
        "\n",
        "# Make predictions\n",
        "predictions = dt_model.predict(add_emb_test)\n",
        "\n",
        "# Calculate accuracy\n",
        "accuracy = accuracy_score(test_labelsi, predictions)\n",
        "print(f\"Accuracy using fast text embeddings and Decision Tree model: {accuracy:.4f}\")\n",
        "\n",
        "report = classification_report(test_labelsi, predictions)\n",
        "\n",
        "# Print the report\n",
        "print(report)\n"
      ],
      "metadata": {
        "colab": {
          "base_uri": "https://localhost:8080/"
        },
        "id": "73fTCmmvh4CG",
        "outputId": "40ccc108-5875-4165-d5d4-48b10dbf537c"
      },
      "execution_count": null,
      "outputs": [
        {
          "output_type": "stream",
          "name": "stdout",
          "text": [
            "Accuracy using fast text embeddings and Decision Tree model: 0.2245\n",
            "              precision    recall  f1-score   support\n",
            "\n",
            "         1.0       0.10      0.09      0.10       148\n",
            "         2.0       0.06      0.32      0.11        97\n",
            "         3.0       0.06      0.07      0.07       165\n",
            "         4.0       0.17      0.33      0.23       375\n",
            "         5.0       0.59      0.22      0.32      1215\n",
            "\n",
            "    accuracy                           0.22      2000\n",
            "   macro avg       0.20      0.21      0.16      2000\n",
            "weighted avg       0.41      0.22      0.25      2000\n",
            "\n"
          ]
        }
      ]
    },
    {
      "cell_type": "code",
      "source": [
        "sub_emb_train=fast_emb_train-glove_emb_train-word_train_emb\n",
        "sub_emb_test=fast_emb_test-glove_emb_test-word_test_emb"
      ],
      "metadata": {
        "id": "nYOlvPMzjkDK"
      },
      "execution_count": null,
      "outputs": []
    },
    {
      "cell_type": "code",
      "source": [
        "from keras.models import Sequential\n",
        "from keras.layers import Embedding, Bidirectional, GRU, Dense\n",
        "\n",
        "vocab_size = 10000  # Adjust based on your vocabulary size\n",
        "embedding_dim = 300\n",
        "max_sequence_length = 300  # Adjust based on your maximum review length\n",
        "\n",
        "model = Sequential()\n",
        "model.add(Embedding(vocab_size, embedding_dim, input_length=max_sequence_length))\n",
        "model.add(Bidirectional(GRU(128)))\n",
        "model.add(Dense(1, activation='linear'))  # Assuming rating is a numerical value\n",
        "\n",
        "model.compile(optimizer='adam', loss='mean_squared_error')\n",
        "\n",
        "model.fit(add_emb_train, train_labels, validation_data=(add_emb_train, train_labels), epochs=10, batch_size=32)\n",
        "\n",
        "predictions = model.predict(add_emb_test)\n",
        "\n",
        "\n",
        "# Calculate accuracy\n",
        "from sklearn.metrics import mean_absolute_error\n",
        "\n",
        "mae = mean_absolute_error(test_labels, predictions)\n",
        "print(f\"Mean Absolute Error using Bi GRU: {mae:.4f}\")\n"
      ],
      "metadata": {
        "colab": {
          "base_uri": "https://localhost:8080/"
        },
        "id": "IMFFsBrxWbVY",
        "outputId": "d3cb7948-a33a-4c97-d4f4-e83675a4ba6d"
      },
      "execution_count": null,
      "outputs": [
        {
          "output_type": "stream",
          "name": "stdout",
          "text": [
            "Epoch 1/10\n",
            "250/250 [==============================] - 20s 39ms/step - loss: 1.9045 - val_loss: 1.6297\n",
            "Epoch 2/10\n",
            "250/250 [==============================] - 13s 50ms/step - loss: 1.5397 - val_loss: 1.5104\n",
            "Epoch 3/10\n",
            "250/250 [==============================] - 10s 40ms/step - loss: 1.5280 - val_loss: 1.5425\n",
            "Epoch 4/10\n",
            "250/250 [==============================] - 8s 30ms/step - loss: 1.5364 - val_loss: 1.5084\n",
            "Epoch 5/10\n",
            "250/250 [==============================] - 9s 34ms/step - loss: 1.5269 - val_loss: 1.6458\n",
            "Epoch 6/10\n",
            "250/250 [==============================] - 8s 32ms/step - loss: 1.5370 - val_loss: 1.5316\n",
            "Epoch 7/10\n",
            "250/250 [==============================] - 8s 33ms/step - loss: 1.5303 - val_loss: 1.5356\n",
            "Epoch 8/10\n",
            "250/250 [==============================] - 8s 32ms/step - loss: 1.5264 - val_loss: 1.5139\n",
            "Epoch 9/10\n",
            "250/250 [==============================] - 8s 32ms/step - loss: 1.5256 - val_loss: 1.5190\n",
            "Epoch 10/10\n",
            "250/250 [==============================] - 9s 34ms/step - loss: 1.5313 - val_loss: 1.5176\n",
            "63/63 [==============================] - 1s 11ms/step\n",
            "Mean Absolute Error using Bi GRU: 0.9577\n"
          ]
        }
      ]
    },
    {
      "cell_type": "code",
      "source": [
        "from keras.models import Sequential\n",
        "from keras.layers import Embedding, LSTM, Dense\n",
        "\n",
        "vocab_size = 10000  # Adjust based on your vocabulary size\n",
        "embedding_dim = 300\n",
        "max_sequence_length = 300  # Adjust based on your maximum review length\n",
        "\n",
        "model = Sequential()\n",
        "model.add(Embedding(vocab_size, embedding_dim, input_length=max_sequence_length))\n",
        "model.add(LSTM(128))\n",
        "# model.add(Dense(128, activation='relu'))\n",
        "model.add(Dense(1, activation='linear'))  # Assuming rating is a numerical value\n",
        "\n",
        "model.compile(optimizer='adam', loss='mean_squared_error', metrics=['mae'])\n",
        "\n",
        "\n",
        "model.fit(add_emb_train, train_labels, validation_data=(add_emb_train, train_labels), epochs=10, batch_size=32)\n",
        "\n",
        "predictions = model.predict(add_emb_test)\n",
        "\n",
        "\n",
        "# Calculate accuracy\n",
        "from sklearn.metrics import mean_absolute_error\n",
        "\n",
        "mae = mean_absolute_error(test_labels, predictions)\n",
        "print(f\"Mean Absolute Error using LSTM: {mae:.4f}\")\n",
        "\n"
      ],
      "metadata": {
        "colab": {
          "base_uri": "https://localhost:8080/"
        },
        "id": "pVnGoWGbLquA",
        "outputId": "9190a3c9-d48c-4f4a-f6a3-f4014024bf4b"
      },
      "execution_count": null,
      "outputs": [
        {
          "output_type": "stream",
          "name": "stdout",
          "text": [
            "Epoch 1/10\n",
            "250/250 [==============================] - 7s 22ms/step - loss: 1.9079 - mae: 1.0471 - val_loss: 1.5115 - val_mae: 0.9545\n",
            "Epoch 2/10\n",
            "250/250 [==============================] - 5s 20ms/step - loss: 1.5212 - mae: 0.9641 - val_loss: 1.5218 - val_mae: 0.9407\n",
            "Epoch 3/10\n",
            "250/250 [==============================] - 4s 17ms/step - loss: 1.5219 - mae: 0.9630 - val_loss: 1.5440 - val_mae: 0.9257\n",
            "Epoch 4/10\n",
            "250/250 [==============================] - 4s 17ms/step - loss: 1.5216 - mae: 0.9609 - val_loss: 1.5625 - val_mae: 1.0205\n",
            "Epoch 5/10\n",
            "250/250 [==============================] - 5s 20ms/step - loss: 1.5221 - mae: 0.9648 - val_loss: 1.5104 - val_mae: 0.9661\n",
            "Epoch 6/10\n",
            "250/250 [==============================] - 4s 17ms/step - loss: 1.5227 - mae: 0.9616 - val_loss: 1.5141 - val_mae: 0.9495\n",
            "Epoch 7/10\n",
            "250/250 [==============================] - 6s 23ms/step - loss: 1.5221 - mae: 0.9653 - val_loss: 1.5318 - val_mae: 0.9914\n",
            "Epoch 8/10\n",
            "250/250 [==============================] - 4s 18ms/step - loss: 1.5219 - mae: 0.9643 - val_loss: 1.5150 - val_mae: 0.9762\n",
            "Epoch 9/10\n",
            "250/250 [==============================] - 4s 17ms/step - loss: 1.5202 - mae: 0.9639 - val_loss: 1.5191 - val_mae: 0.9433\n",
            "Epoch 10/10\n",
            "250/250 [==============================] - 5s 20ms/step - loss: 1.5210 - mae: 0.9627 - val_loss: 1.5112 - val_mae: 0.9691\n",
            "63/63 [==============================] - 1s 7ms/step\n",
            "Mean Absolute Error using LSTM: 0.9742\n"
          ]
        }
      ]
    },
    {
      "cell_type": "code",
      "source": [
        "from keras.models import Sequential\n",
        "from keras.layers import Embedding, Bidirectional, LSTM, Dense\n",
        "\n",
        "vocab_size = 10000  # Adjust based on your vocabulary size\n",
        "embedding_dim = 300\n",
        "max_sequence_length = 300  # Adjust based on your maximum review length\n",
        "\n",
        "model = Sequential()\n",
        "model.add(Embedding(vocab_size, embedding_dim, input_length=max_sequence_length))\n",
        "model.add(Bidirectional(LSTM(128)))  # Bidirectional layer\n",
        "model.add(Dense(1, activation='linear'))  # Assuming rating is a numerical value\n",
        "\n",
        "model.compile(optimizer='adam', loss='mean_squared_error')\n",
        "\n",
        "model.fit(add_emb_train, train_labels, validation_data=(add_emb_train, train_labels), epochs=10, batch_size=32)\n",
        "\n",
        "predictions = model.predict(add_emb_test)\n",
        "\n",
        "# Calculate accuracy\n",
        "from sklearn.metrics import mean_absolute_error\n",
        "\n",
        "mae = mean_absolute_error(test_labels, predictions)\n",
        "print(f\"Mean Absolute Error using Bi LSTM: {mae:.4f}\")"
      ],
      "metadata": {
        "colab": {
          "base_uri": "https://localhost:8080/"
        },
        "id": "in9TnT673ZEv",
        "outputId": "0a5f4c02-9731-47d5-b5c7-0b7e99b759b3"
      },
      "execution_count": null,
      "outputs": [
        {
          "output_type": "stream",
          "name": "stdout",
          "text": [
            "Epoch 1/10\n",
            "250/250 [==============================] - 14s 37ms/step - loss: 1.8649 - val_loss: 1.5366\n",
            "Epoch 2/10\n",
            "250/250 [==============================] - 8s 33ms/step - loss: 1.5350 - val_loss: 1.5123\n",
            "Epoch 3/10\n",
            "250/250 [==============================] - 9s 34ms/step - loss: 1.5332 - val_loss: 1.5097\n",
            "Epoch 4/10\n",
            "250/250 [==============================] - 8s 32ms/step - loss: 1.5210 - val_loss: 1.5521\n",
            "Epoch 5/10\n",
            "250/250 [==============================] - 8s 34ms/step - loss: 1.5245 - val_loss: 1.5152\n",
            "Epoch 6/10\n",
            "250/250 [==============================] - 8s 32ms/step - loss: 1.5204 - val_loss: 1.5099\n",
            "Epoch 7/10\n",
            "250/250 [==============================] - 8s 33ms/step - loss: 1.5194 - val_loss: 1.5101\n",
            "Epoch 8/10\n",
            "250/250 [==============================] - 8s 34ms/step - loss: 1.5232 - val_loss: 1.5098\n",
            "Epoch 9/10\n",
            "250/250 [==============================] - 8s 33ms/step - loss: 1.5182 - val_loss: 1.5112\n",
            "Epoch 10/10\n",
            "250/250 [==============================] - 8s 33ms/step - loss: 1.5190 - val_loss: 1.5243\n",
            "63/63 [==============================] - 1s 11ms/step\n",
            "Mean Absolute Error using Bi LSTM: 0.9405\n"
          ]
        }
      ]
    },
    {
      "cell_type": "code",
      "source": [
        "from keras.models import Sequential\n",
        "from keras.layers import Embedding, GRU, Dense\n",
        "\n",
        "vocab_size = 10000  # Adjust based on your vocabulary size\n",
        "embedding_dim = 300\n",
        "max_sequence_length = 300  # Adjust based on your maximum review length\n",
        "\n",
        "model = Sequential()\n",
        "model.add(Embedding(vocab_size, embedding_dim, input_length=max_sequence_length))\n",
        "model.add(GRU(128))  # GRU layer\n",
        "model.add(Dense(1, activation='linear'))  # Assuming rating is a numerical value\n",
        "\n",
        "model.compile(optimizer='adam', loss='mean_squared_error')\n",
        "\n",
        "model.fit(add_emb_train, train_labels, validation_data=(add_emb_train, train_labels), epochs=10, batch_size=32)\n",
        "\n",
        "predictions = model.predict(add_emb_test)\n",
        "\n",
        "# Calculate accuracy\n",
        "from sklearn.metrics import mean_absolute_error\n",
        "\n",
        "mae = mean_absolute_error(test_labels, predictions)\n",
        "print(f\"Mean Absolute Error: {mae:.4f}\")\n",
        "# print(f\"Accuracy using Decision Tree model: {mae:.4f}\")\n",
        "\n",
        "# report = classification_report(test_labels, predictions)\n",
        "\n",
        "# Print the report\n",
        "# print(report)"
      ],
      "metadata": {
        "colab": {
          "base_uri": "https://localhost:8080/"
        },
        "id": "tKXi_Rql4L_M",
        "outputId": "c0fd6c3e-ec6e-4a75-8c13-09106bfe6c73"
      },
      "execution_count": null,
      "outputs": [
        {
          "output_type": "stream",
          "name": "stdout",
          "text": [
            "Epoch 1/10\n",
            "250/250 [==============================] - 7s 20ms/step - loss: 2.0325 - val_loss: 1.6019\n",
            "Epoch 2/10\n",
            "250/250 [==============================] - 5s 20ms/step - loss: 1.5473 - val_loss: 1.5174\n",
            "Epoch 3/10\n",
            "250/250 [==============================] - 4s 17ms/step - loss: 1.5280 - val_loss: 1.5508\n",
            "Epoch 4/10\n",
            "250/250 [==============================] - 4s 17ms/step - loss: 1.5302 - val_loss: 1.5161\n",
            "Epoch 5/10\n",
            "250/250 [==============================] - 5s 19ms/step - loss: 1.5271 - val_loss: 1.5107\n",
            "Epoch 6/10\n",
            "250/250 [==============================] - 4s 17ms/step - loss: 1.5402 - val_loss: 1.5212\n",
            "Epoch 7/10\n",
            "250/250 [==============================] - 4s 18ms/step - loss: 1.5196 - val_loss: 1.5272\n",
            "Epoch 8/10\n",
            "250/250 [==============================] - 5s 19ms/step - loss: 1.5262 - val_loss: 1.5100\n",
            "Epoch 9/10\n",
            "250/250 [==============================] - 4s 17ms/step - loss: 1.5260 - val_loss: 1.5223\n",
            "Epoch 10/10\n",
            "250/250 [==============================] - 4s 18ms/step - loss: 1.5230 - val_loss: 1.5176\n",
            "63/63 [==============================] - 1s 6ms/step\n",
            "Mean Absolute Error: 0.9479\n"
          ]
        }
      ]
    },
    {
      "cell_type": "markdown",
      "source": [
        "PERFORMING SUBTRACTION OF FAST TEXT AND GLOVE AND USING SVM"
      ],
      "metadata": {
        "id": "8Lx9S3nBm8t1"
      }
    },
    {
      "cell_type": "code",
      "source": [
        "from sklearn.svm import SVC\n",
        "from sklearn.metrics import accuracy_score\n",
        "from sklearn.metrics import classification_report\n",
        "\n",
        "svm_model = SVC(kernel='linear', C=1.0)\n",
        "svm_model.fit(sub_emb_train, train_labels)\n",
        "\n",
        "# Make predictions\n",
        "predictions = svm_model.predict(sub_emb_test)\n",
        "\n",
        "# Calculate accuracy\n",
        "accuracy = accuracy_score(test_labels, predictions)\n",
        "print(f\"Accuracy using svm: {accuracy:.4f}\")\n",
        "\n",
        "report = classification_report(test_labels, predictions)\n",
        "\n",
        "# Print the report\n",
        "\n",
        "\n",
        "print(report)"
      ],
      "metadata": {
        "colab": {
          "base_uri": "https://localhost:8080/"
        },
        "id": "gogmJwnomw7G",
        "outputId": "0c895829-d763-49ec-f721-346969f6a12e"
      },
      "execution_count": null,
      "outputs": [
        {
          "output_type": "stream",
          "name": "stdout",
          "text": [
            "Accuracy using svm: 0.6220\n",
            "              precision    recall  f1-score   support\n",
            "\n",
            "         1.0       0.60      0.22      0.33       148\n",
            "         2.0       0.33      0.02      0.04        97\n",
            "         3.0       0.33      0.04      0.08       165\n",
            "         4.0       0.00      0.00      0.00       375\n",
            "         5.0       0.63      0.99      0.77      1215\n",
            "\n",
            "    accuracy                           0.62      2000\n",
            "   macro avg       0.38      0.26      0.24      2000\n",
            "weighted avg       0.47      0.62      0.50      2000\n",
            "\n"
          ]
        }
      ]
    },
    {
      "cell_type": "code",
      "source": [
        "from sklearn.naive_bayes import MultinomialNB\n",
        "from sklearn.metrics import accuracy_score\n",
        "from sklearn.metrics import classification_report\n",
        "\n",
        "# Train a Multinomial Naive Bayes model\n",
        "nb_model = MultinomialNB()\n",
        "sub_emb_train=np.abs(sub_emb_train)\n",
        "nb_model.fit(sub_emb_train, train_labels)\n",
        "\n",
        "# Make predictions\n",
        "predictions = nb_model.predict(sub_emb_test)\n",
        "\n",
        "# Calculate accuracy\n",
        "accuracy = accuracy_score(test_labels, predictions)\n",
        "print(f\"Accuracy using fast text embeddings and naive bayes model: {accuracy:.2f}\")\n",
        "\n",
        "report = classification_report(test_labels, predictions)\n",
        "\n",
        "# Print the report\n",
        "\n",
        "\n",
        "print(report)\n"
      ],
      "metadata": {
        "colab": {
          "base_uri": "https://localhost:8080/"
        },
        "id": "JfjxKOuzeCEN",
        "outputId": "4363149e-a9f8-42ba-841d-f4ace4197c16"
      },
      "execution_count": null,
      "outputs": [
        {
          "output_type": "stream",
          "name": "stdout",
          "text": [
            "Accuracy using fast text embeddings and naive bayes model: 0.61\n",
            "              precision    recall  f1-score   support\n",
            "\n",
            "         1.0       0.00      0.00      0.00       148\n",
            "         2.0       0.00      0.00      0.00        97\n",
            "         3.0       0.00      0.00      0.00       165\n",
            "         4.0       0.00      0.00      0.00       375\n",
            "         5.0       0.61      1.00      0.76      1215\n",
            "\n",
            "    accuracy                           0.61      2000\n",
            "   macro avg       0.12      0.20      0.15      2000\n",
            "weighted avg       0.37      0.61      0.46      2000\n",
            "\n"
          ]
        },
        {
          "output_type": "stream",
          "name": "stderr",
          "text": [
            "/usr/local/lib/python3.10/dist-packages/sklearn/metrics/_classification.py:1344: UndefinedMetricWarning: Precision and F-score are ill-defined and being set to 0.0 in labels with no predicted samples. Use `zero_division` parameter to control this behavior.\n",
            "  _warn_prf(average, modifier, msg_start, len(result))\n",
            "/usr/local/lib/python3.10/dist-packages/sklearn/metrics/_classification.py:1344: UndefinedMetricWarning: Precision and F-score are ill-defined and being set to 0.0 in labels with no predicted samples. Use `zero_division` parameter to control this behavior.\n",
            "  _warn_prf(average, modifier, msg_start, len(result))\n",
            "/usr/local/lib/python3.10/dist-packages/sklearn/metrics/_classification.py:1344: UndefinedMetricWarning: Precision and F-score are ill-defined and being set to 0.0 in labels with no predicted samples. Use `zero_division` parameter to control this behavior.\n",
            "  _warn_prf(average, modifier, msg_start, len(result))\n"
          ]
        }
      ]
    },
    {
      "cell_type": "code",
      "source": [
        "from sklearn.ensemble import RandomForestClassifier\n",
        "from sklearn.metrics import accuracy_score\n",
        "from sklearn.metrics import classification_report\n",
        "\n",
        "# Train a Random Forest model\n",
        "rf_model = RandomForestClassifier(n_estimators=100, random_state=42)\n",
        "rf_model.fit(sub_emb_train, train_labels)\n",
        "\n",
        "# Make predictions\n",
        "predictions = rf_model.predict(sub_emb_test)\n",
        "\n",
        "# Calculate accuracy\n",
        "accuracy = accuracy_score(test_labels, predictions)\n",
        "print(f\"Accuracy using rf model: {accuracy:.4f}\")\n",
        "\n",
        "report = classification_report(test_labels, predictions)\n",
        "\n",
        "# Print the report\n",
        "\n",
        "\n",
        "print(report)\n"
      ],
      "metadata": {
        "colab": {
          "base_uri": "https://localhost:8080/"
        },
        "id": "7r4RDHi-gwC_",
        "outputId": "4404e5e3-de47-4775-b0f6-a2b7dbb0dc9a"
      },
      "execution_count": null,
      "outputs": [
        {
          "output_type": "stream",
          "name": "stdout",
          "text": [
            "Accuracy using rf model: 0.3825\n",
            "              precision    recall  f1-score   support\n",
            "\n",
            "         1.0       0.50      0.03      0.06       148\n",
            "         2.0       0.00      0.00      0.00        97\n",
            "         3.0       0.00      0.00      0.00       165\n",
            "         4.0       0.18      0.47      0.26       375\n",
            "         5.0       0.58      0.48      0.52      1215\n",
            "\n",
            "    accuracy                           0.38      2000\n",
            "   macro avg       0.25      0.20      0.17      2000\n",
            "weighted avg       0.42      0.38      0.37      2000\n",
            "\n"
          ]
        },
        {
          "output_type": "stream",
          "name": "stderr",
          "text": [
            "/usr/local/lib/python3.10/dist-packages/sklearn/metrics/_classification.py:1344: UndefinedMetricWarning: Precision and F-score are ill-defined and being set to 0.0 in labels with no predicted samples. Use `zero_division` parameter to control this behavior.\n",
            "  _warn_prf(average, modifier, msg_start, len(result))\n",
            "/usr/local/lib/python3.10/dist-packages/sklearn/metrics/_classification.py:1344: UndefinedMetricWarning: Precision and F-score are ill-defined and being set to 0.0 in labels with no predicted samples. Use `zero_division` parameter to control this behavior.\n",
            "  _warn_prf(average, modifier, msg_start, len(result))\n",
            "/usr/local/lib/python3.10/dist-packages/sklearn/metrics/_classification.py:1344: UndefinedMetricWarning: Precision and F-score are ill-defined and being set to 0.0 in labels with no predicted samples. Use `zero_division` parameter to control this behavior.\n",
            "  _warn_prf(average, modifier, msg_start, len(result))\n"
          ]
        }
      ]
    },
    {
      "cell_type": "code",
      "source": [
        "from sklearn.tree import DecisionTreeClassifier\n",
        "from sklearn.metrics import accuracy_score, classification_report\n",
        "\n",
        "# Train a Decision Tree model\n",
        "dt_model = DecisionTreeClassifier(random_state=42)  # You can adjust hyperparameters here\n",
        "# conc_emb_reduced_train = np.abs(conc_emb_reduced_train)\n",
        "dt_model.fit(sub_emb_train, train_labels)\n",
        "\n",
        "# Make predictions\n",
        "predictions = dt_model.predict(sub_emb_test)\n",
        "\n",
        "# Calculate accuracy\n",
        "accuracy = accuracy_score(test_labels, predictions)\n",
        "print(f\"Accuracy using fast text embeddings and Decision Tree model: {accuracy:.4f}\")\n",
        "\n",
        "report = classification_report(test_labels, predictions)\n",
        "\n",
        "# Print the report\n",
        "print(report)\n"
      ],
      "metadata": {
        "colab": {
          "base_uri": "https://localhost:8080/"
        },
        "id": "k7HKVBy_iDeJ",
        "outputId": "c8b05464-fd3b-4b37-818b-28bb99e62bc5"
      },
      "execution_count": null,
      "outputs": [
        {
          "output_type": "stream",
          "name": "stdout",
          "text": [
            "Accuracy using fast text embeddings and Decision Tree model: 0.1870\n",
            "              precision    recall  f1-score   support\n",
            "\n",
            "         1.0       0.07      0.20      0.11       148\n",
            "         2.0       0.05      0.11      0.07        97\n",
            "         3.0       0.09      0.25      0.13       165\n",
            "         4.0       0.19      0.32      0.24       375\n",
            "         5.0       0.61      0.14      0.23      1215\n",
            "\n",
            "    accuracy                           0.19      2000\n",
            "   macro avg       0.20      0.21      0.16      2000\n",
            "weighted avg       0.42      0.19      0.21      2000\n",
            "\n"
          ]
        }
      ]
    },
    {
      "cell_type": "code",
      "source": [
        "from keras.models import Sequential\n",
        "from keras.layers import Embedding, Bidirectional, GRU, Dense\n",
        "\n",
        "vocab_size = 10000  # Adjust based on your vocabulary size\n",
        "embedding_dim = 300\n",
        "max_sequence_length = 300  # Adjust based on your maximum review length\n",
        "\n",
        "model = Sequential()\n",
        "model.add(Embedding(vocab_size, embedding_dim, input_length=max_sequence_length))\n",
        "model.add(Bidirectional(GRU(128)))\n",
        "model.add(Dense(1, activation='linear'))  # Assuming rating is a numerical value\n",
        "\n",
        "model.compile(optimizer='adam', loss='mean_squared_error')\n",
        "\n",
        "model.fit(sub_emb_train, train_labels, validation_data=(sub_emb_train, train_labels), epochs=10, batch_size=32)\n",
        "\n",
        "predictions = model.predict(sub_emb_test)\n",
        "\n",
        "\n",
        "# Calculate accuracy\n",
        "from sklearn.metrics import mean_absolute_error\n",
        "\n",
        "mae = mean_absolute_error(test_labels, predictions)\n",
        "print(f\"Mean Absolute Error: {mae:.4f}\")\n"
      ],
      "metadata": {
        "colab": {
          "base_uri": "https://localhost:8080/"
        },
        "id": "XbaaDi9r1eRh",
        "outputId": "2ea59ef3-be7f-42bd-c52a-5b8d6337c5b3"
      },
      "execution_count": null,
      "outputs": [
        {
          "output_type": "stream",
          "name": "stdout",
          "text": [
            "Epoch 1/10\n",
            "250/250 [==============================] - 13s 37ms/step - loss: 1.9216 - val_loss: 1.5097\n",
            "Epoch 2/10\n",
            "250/250 [==============================] - 8s 31ms/step - loss: 1.5307 - val_loss: 1.5266\n",
            "Epoch 3/10\n",
            "250/250 [==============================] - 8s 32ms/step - loss: 1.5360 - val_loss: 1.5669\n",
            "Epoch 4/10\n",
            "250/250 [==============================] - 8s 32ms/step - loss: 1.5329 - val_loss: 1.5097\n",
            "Epoch 5/10\n",
            "250/250 [==============================] - 8s 32ms/step - loss: 1.5261 - val_loss: 1.5121\n",
            "Epoch 6/10\n",
            "250/250 [==============================] - 9s 34ms/step - loss: 1.5449 - val_loss: 1.5078\n",
            "Epoch 7/10\n",
            "250/250 [==============================] - 8s 31ms/step - loss: 1.5360 - val_loss: 1.5167\n",
            "Epoch 8/10\n",
            "250/250 [==============================] - 8s 32ms/step - loss: 1.5311 - val_loss: 1.5391\n",
            "Epoch 9/10\n",
            "250/250 [==============================] - 8s 32ms/step - loss: 1.5292 - val_loss: 1.5099\n",
            "Epoch 10/10\n",
            "250/250 [==============================] - 8s 31ms/step - loss: 1.5286 - val_loss: 1.5398\n",
            "63/63 [==============================] - 1s 8ms/step\n",
            "Mean Absolute Error: 1.0047\n"
          ]
        }
      ]
    },
    {
      "cell_type": "code",
      "source": [
        "from keras.models import Sequential\n",
        "from keras.layers import Embedding, LSTM, Dense\n",
        "\n",
        "vocab_size = 10000  # Adjust based on your vocabulary size\n",
        "embedding_dim = 300\n",
        "max_sequence_length = 300  # Adjust based on your maximum review length\n",
        "\n",
        "model = Sequential()\n",
        "model.add(Embedding(vocab_size, embedding_dim, input_length=max_sequence_length))\n",
        "model.add(LSTM(128))\n",
        "# model.add(Dense(128, activation='relu'))\n",
        "model.add(Dense(1, activation='linear'))  # Assuming rating is a numerical value\n",
        "\n",
        "model.compile(optimizer='adam', loss='mean_squared_error', metrics=['mae'])\n",
        "\n",
        "\n",
        "model.fit(sub_emb_train, train_labels, validation_data=(sub_emb_train, train_labels), epochs=10, batch_size=32)\n",
        "\n",
        "predictions = model.predict(sub_emb_test)\n",
        "\n",
        "\n",
        "# Calculate accuracy\n",
        "from sklearn.metrics import mean_absolute_error\n",
        "\n",
        "mae = mean_absolute_error(test_labels, predictions)\n",
        "print(f\"Mean Absolute Error using LSTM: {mae:.4f}\")\n"
      ],
      "metadata": {
        "colab": {
          "base_uri": "https://localhost:8080/"
        },
        "id": "7bJVzZ4H2JH5",
        "outputId": "d0fd6c70-c76a-4c53-e549-e7fade029f37"
      },
      "execution_count": null,
      "outputs": [
        {
          "output_type": "stream",
          "name": "stdout",
          "text": [
            "Epoch 1/10\n",
            "250/250 [==============================] - 8s 23ms/step - loss: 1.8995 - mae: 1.0444 - val_loss: 1.5242 - val_mae: 0.9858\n",
            "Epoch 2/10\n",
            "250/250 [==============================] - 4s 17ms/step - loss: 1.5222 - mae: 0.9651 - val_loss: 1.5103 - val_mae: 0.9588\n",
            "Epoch 3/10\n",
            "250/250 [==============================] - 4s 18ms/step - loss: 1.5234 - mae: 0.9618 - val_loss: 1.5238 - val_mae: 0.9855\n",
            "Epoch 4/10\n",
            "250/250 [==============================] - 5s 20ms/step - loss: 1.5287 - mae: 0.9647 - val_loss: 1.5184 - val_mae: 0.9440\n",
            "Epoch 5/10\n",
            "250/250 [==============================] - 4s 17ms/step - loss: 1.5216 - mae: 0.9624 - val_loss: 1.5771 - val_mae: 0.9110\n",
            "Epoch 6/10\n",
            "250/250 [==============================] - 4s 18ms/step - loss: 1.5354 - mae: 0.9675 - val_loss: 1.5268 - val_mae: 0.9366\n",
            "Epoch 7/10\n",
            "250/250 [==============================] - 5s 20ms/step - loss: 1.5250 - mae: 0.9617 - val_loss: 1.5100 - val_mae: 0.9632\n",
            "Epoch 8/10\n",
            "250/250 [==============================] - 4s 17ms/step - loss: 1.5199 - mae: 0.9637 - val_loss: 1.5256 - val_mae: 0.9375\n",
            "Epoch 9/10\n",
            "250/250 [==============================] - 6s 23ms/step - loss: 1.5176 - mae: 0.9625 - val_loss: 1.5103 - val_mae: 0.9588\n",
            "Epoch 10/10\n",
            "250/250 [==============================] - 4s 17ms/step - loss: 1.5172 - mae: 0.9638 - val_loss: 1.5117 - val_mae: 0.9705\n",
            "63/63 [==============================] - 1s 7ms/step\n",
            "Mean Absolute Error using LSTM: 0.9757\n"
          ]
        }
      ]
    },
    {
      "cell_type": "code",
      "source": [
        "from keras.models import Sequential\n",
        "from keras.layers import Embedding, Bidirectional, LSTM, Dense\n",
        "\n",
        "vocab_size = 10000  # Adjust based on your vocabulary size\n",
        "embedding_dim = 300\n",
        "max_sequence_length = 300  # Adjust based on your maximum review length\n",
        "\n",
        "model = Sequential()\n",
        "model.add(Embedding(vocab_size, embedding_dim, input_length=max_sequence_length))\n",
        "model.add(Bidirectional(LSTM(128)))  # Bidirectional layer\n",
        "model.add(Dense(1, activation='linear'))  # Assuming rating is a numerical value\n",
        "\n",
        "model.compile(optimizer='adam', loss='mean_squared_error')\n",
        "\n",
        "model.fit(sub_emb_train, train_labels, validation_data=(sub_emb_train, train_labels), epochs=10, batch_size=32)\n",
        "\n",
        "predictions = model.predict(sub_emb_test)\n",
        "\n",
        "# Calculate accuracy\n",
        "from sklearn.metrics import mean_absolute_error\n",
        "\n",
        "mae = mean_absolute_error(test_labels, predictions)\n",
        "print(f\"Mean Absolute Error using Bi LSTM: {mae:.4f}\")"
      ],
      "metadata": {
        "colab": {
          "base_uri": "https://localhost:8080/"
        },
        "id": "wcXf2bT03QMk",
        "outputId": "a65c1a27-8af8-4166-d533-a4e9fc75c46f"
      },
      "execution_count": null,
      "outputs": [
        {
          "output_type": "stream",
          "name": "stdout",
          "text": [
            "Epoch 1/10\n",
            "250/250 [==============================] - 13s 40ms/step - loss: 1.8281 - val_loss: 1.5298\n",
            "Epoch 2/10\n",
            "250/250 [==============================] - 8s 33ms/step - loss: 1.5297 - val_loss: 1.5172\n",
            "Epoch 3/10\n",
            "250/250 [==============================] - 9s 35ms/step - loss: 1.5244 - val_loss: 1.5279\n",
            "Epoch 4/10\n",
            "250/250 [==============================] - 8s 33ms/step - loss: 1.5320 - val_loss: 1.5207\n",
            "Epoch 5/10\n",
            "250/250 [==============================] - 8s 32ms/step - loss: 1.5203 - val_loss: 1.5232\n",
            "Epoch 6/10\n",
            "250/250 [==============================] - 9s 36ms/step - loss: 1.5195 - val_loss: 1.5165\n",
            "Epoch 7/10\n",
            "250/250 [==============================] - 8s 32ms/step - loss: 1.5262 - val_loss: 1.5111\n",
            "Epoch 8/10\n",
            "250/250 [==============================] - 8s 33ms/step - loss: 1.5202 - val_loss: 1.5297\n",
            "Epoch 9/10\n",
            "250/250 [==============================] - 8s 33ms/step - loss: 1.5195 - val_loss: 1.5209\n",
            "Epoch 10/10\n",
            "250/250 [==============================] - 8s 33ms/step - loss: 1.5221 - val_loss: 1.5590\n",
            "63/63 [==============================] - 2s 11ms/step\n",
            "Mean Absolute Error using Bi LSTM: 1.0242\n"
          ]
        }
      ]
    },
    {
      "cell_type": "code",
      "source": [
        "from keras.models import Sequential\n",
        "from keras.layers import Embedding, GRU, Dense\n",
        "\n",
        "vocab_size = 10000  # Adjust based on your vocabulary size\n",
        "embedding_dim = 300\n",
        "max_sequence_length = 300  # Adjust based on your maximum review length\n",
        "\n",
        "model = Sequential()\n",
        "model.add(Embedding(vocab_size, embedding_dim, input_length=max_sequence_length))\n",
        "model.add(GRU(128))  # GRU layer\n",
        "model.add(Dense(1, activation='linear'))  # Assuming rating is a numerical value\n",
        "\n",
        "model.compile(optimizer='adam', loss='mean_squared_error')\n",
        "\n",
        "model.fit(sub_emb_train, train_labels, validation_data=(sub_emb_train, train_labels), epochs=10, batch_size=32)\n",
        "\n",
        "predictions = model.predict(sub_emb_test)\n",
        "\n",
        "# Calculate accuracy\n",
        "from sklearn.metrics import mean_absolute_error\n",
        "\n",
        "mae = mean_absolute_error(test_labels, predictions)\n",
        "print(f\"Mean Absolute Error: {mae:.4f}\")\n",
        "# print(f\"Accuracy using Decision Tree model: {mae:.4f}\")\n",
        "\n",
        "# report = classification_report(test_labels, predictions)\n",
        "\n",
        "# Print the report\n",
        "# print(report)"
      ],
      "metadata": {
        "colab": {
          "base_uri": "https://localhost:8080/"
        },
        "id": "nXiCx-Ph4FNx",
        "outputId": "dd19fffc-e553-4a59-9119-c86be2851e6e"
      },
      "execution_count": null,
      "outputs": [
        {
          "output_type": "stream",
          "name": "stdout",
          "text": [
            "Epoch 1/10\n",
            "250/250 [==============================] - 8s 20ms/step - loss: 2.0480 - val_loss: 1.5706\n",
            "Epoch 2/10\n",
            "250/250 [==============================] - 4s 18ms/step - loss: 1.5445 - val_loss: 1.5136\n",
            "Epoch 3/10\n",
            "250/250 [==============================] - 5s 19ms/step - loss: 1.5316 - val_loss: 1.5155\n",
            "Epoch 4/10\n",
            "250/250 [==============================] - 4s 17ms/step - loss: 1.5317 - val_loss: 1.5340\n",
            "Epoch 5/10\n",
            "250/250 [==============================] - 4s 17ms/step - loss: 1.5308 - val_loss: 1.5258\n",
            "Epoch 6/10\n",
            "250/250 [==============================] - 5s 19ms/step - loss: 1.5226 - val_loss: 1.5138\n",
            "Epoch 7/10\n",
            "250/250 [==============================] - 4s 17ms/step - loss: 1.5230 - val_loss: 1.5603\n",
            "Epoch 8/10\n",
            "250/250 [==============================] - 4s 17ms/step - loss: 1.5258 - val_loss: 1.5630\n",
            "Epoch 9/10\n",
            "250/250 [==============================] - 5s 19ms/step - loss: 1.5206 - val_loss: 1.5118\n",
            "Epoch 10/10\n",
            "250/250 [==============================] - 4s 17ms/step - loss: 1.5335 - val_loss: 1.5449\n",
            "63/63 [==============================] - 1s 7ms/step\n",
            "Mean Absolute Error: 0.9265\n"
          ]
        }
      ]
    },
    {
      "cell_type": "markdown",
      "source": [
        "PERFORMING AVERAGE OF FAST TEXT AND GLOVE AND USING SVM"
      ],
      "metadata": {
        "id": "VnYmMyQ1nqBu"
      }
    },
    {
      "cell_type": "code",
      "source": [
        "avg_emb_train=(fast_emb_train+glove_emb_train+word_train_emb)/3\n",
        "avg_emb_test=(fast_emb_test+glove_emb_test+word_test_emb)/3"
      ],
      "metadata": {
        "id": "DPiG4MP-m7mB"
      },
      "execution_count": null,
      "outputs": []
    },
    {
      "cell_type": "code",
      "source": [
        "train_labels.describe()"
      ],
      "metadata": {
        "colab": {
          "base_uri": "https://localhost:8080/"
        },
        "id": "5FjSje-MLAst",
        "outputId": "533e1afd-653d-4890-9eec-5d943b68b0d1"
      },
      "execution_count": null,
      "outputs": [
        {
          "output_type": "execute_result",
          "data": {
            "text/plain": [
              "count    8000.000000\n",
              "mean        4.196625\n",
              "std         1.228883\n",
              "min         1.000000\n",
              "25%         4.000000\n",
              "50%         5.000000\n",
              "75%         5.000000\n",
              "max         5.000000\n",
              "Name: star_rating, dtype: float64"
            ]
          },
          "metadata": {},
          "execution_count": 40
        }
      ]
    },
    {
      "cell_type": "code",
      "source": [
        "avg_emb_train.shape"
      ],
      "metadata": {
        "colab": {
          "base_uri": "https://localhost:8080/"
        },
        "id": "IuMgFryjLFDB",
        "outputId": "4493b826-aaa4-41a7-bd6a-a3eb977cb1ed"
      },
      "execution_count": null,
      "outputs": [
        {
          "output_type": "execute_result",
          "data": {
            "text/plain": [
              "(8000, 300)"
            ]
          },
          "metadata": {},
          "execution_count": 41
        }
      ]
    },
    {
      "cell_type": "code",
      "source": [
        "from sklearn.svm import SVC\n",
        "from sklearn.metrics import accuracy_score\n",
        "from sklearn.metrics import classification_report\n",
        "\n",
        "svm_model = SVC(kernel='linear', C=1.0)\n",
        "svm_model.fit(avg_emb_train, train_labels)\n",
        "\n",
        "# Make predictions\n",
        "predictions = svm_model.predict(avg_emb_test)\n",
        "\n",
        "# Calculate accuracy\n",
        "accuracy = accuracy_score(test_labels, predictions)\n",
        "print(f\"Accuracy using svm: {accuracy:.4f}\")\n",
        "\n",
        "report = classification_report(test_labels, predictions);\n",
        "\n",
        "# Print the report\n",
        "\n",
        "\n",
        "print(report)"
      ],
      "metadata": {
        "colab": {
          "base_uri": "https://localhost:8080/"
        },
        "id": "3xEs9urenVKK",
        "outputId": "0afa4786-592a-4b73-cc10-88f7c179dd91"
      },
      "execution_count": null,
      "outputs": [
        {
          "output_type": "stream",
          "name": "stdout",
          "text": [
            "Accuracy using svm: 0.6075\n",
            "              precision    recall  f1-score   support\n",
            "\n",
            "         1.0       0.00      0.00      0.00       148\n",
            "         2.0       0.00      0.00      0.00        97\n",
            "         3.0       0.00      0.00      0.00       165\n",
            "         4.0       0.00      0.00      0.00       375\n",
            "         5.0       0.61      1.00      0.76      1215\n",
            "\n",
            "    accuracy                           0.61      2000\n",
            "   macro avg       0.12      0.20      0.15      2000\n",
            "weighted avg       0.37      0.61      0.46      2000\n",
            "\n"
          ]
        },
        {
          "output_type": "stream",
          "name": "stderr",
          "text": [
            "/usr/local/lib/python3.10/dist-packages/sklearn/metrics/_classification.py:1344: UndefinedMetricWarning: Precision and F-score are ill-defined and being set to 0.0 in labels with no predicted samples. Use `zero_division` parameter to control this behavior.\n",
            "  _warn_prf(average, modifier, msg_start, len(result))\n",
            "/usr/local/lib/python3.10/dist-packages/sklearn/metrics/_classification.py:1344: UndefinedMetricWarning: Precision and F-score are ill-defined and being set to 0.0 in labels with no predicted samples. Use `zero_division` parameter to control this behavior.\n",
            "  _warn_prf(average, modifier, msg_start, len(result))\n",
            "/usr/local/lib/python3.10/dist-packages/sklearn/metrics/_classification.py:1344: UndefinedMetricWarning: Precision and F-score are ill-defined and being set to 0.0 in labels with no predicted samples. Use `zero_division` parameter to control this behavior.\n",
            "  _warn_prf(average, modifier, msg_start, len(result))\n"
          ]
        }
      ]
    },
    {
      "cell_type": "code",
      "source": [
        "from sklearn.naive_bayes import MultinomialNB\n",
        "from sklearn.metrics import accuracy_score\n",
        "from sklearn.metrics import classification_report\n",
        "\n",
        "# Train a Multinomial Naive Bayes model\n",
        "nb_model = MultinomialNB()\n",
        "avg_emb_train=np.abs(sub_emb_train)\n",
        "nb_model.fit(avg_emb_train, train_labels)\n",
        "\n",
        "# Make predictions\n",
        "predictions = nb_model.predict(avg_emb_test)\n",
        "\n",
        "# Calculate accuracy\n",
        "accuracy = accuracy_score(test_labels, predictions)\n",
        "print(f\"Accuracy using fast text embeddings and naive bayes model: {accuracy:.2f}\")\n",
        "\n",
        "report = classification_report(test_labels, predictions)\n",
        "\n",
        "# Print the report\n",
        "\n",
        "\n",
        "print(report)\n"
      ],
      "metadata": {
        "colab": {
          "base_uri": "https://localhost:8080/"
        },
        "id": "dToJ0OaifMUG",
        "outputId": "5d42cbe3-1109-4fb4-e7bb-22b52bb74fd1"
      },
      "execution_count": null,
      "outputs": [
        {
          "output_type": "stream",
          "name": "stdout",
          "text": [
            "Accuracy using fast text embeddings and naive bayes model: 0.61\n",
            "              precision    recall  f1-score   support\n",
            "\n",
            "         1.0       0.00      0.00      0.00       148\n",
            "         2.0       0.00      0.00      0.00        97\n",
            "         3.0       0.00      0.00      0.00       165\n",
            "         4.0       0.00      0.00      0.00       375\n",
            "         5.0       0.61      1.00      0.76      1215\n",
            "\n",
            "    accuracy                           0.61      2000\n",
            "   macro avg       0.12      0.20      0.15      2000\n",
            "weighted avg       0.37      0.61      0.46      2000\n",
            "\n"
          ]
        },
        {
          "output_type": "stream",
          "name": "stderr",
          "text": [
            "/usr/local/lib/python3.10/dist-packages/sklearn/metrics/_classification.py:1344: UndefinedMetricWarning: Precision and F-score are ill-defined and being set to 0.0 in labels with no predicted samples. Use `zero_division` parameter to control this behavior.\n",
            "  _warn_prf(average, modifier, msg_start, len(result))\n",
            "/usr/local/lib/python3.10/dist-packages/sklearn/metrics/_classification.py:1344: UndefinedMetricWarning: Precision and F-score are ill-defined and being set to 0.0 in labels with no predicted samples. Use `zero_division` parameter to control this behavior.\n",
            "  _warn_prf(average, modifier, msg_start, len(result))\n",
            "/usr/local/lib/python3.10/dist-packages/sklearn/metrics/_classification.py:1344: UndefinedMetricWarning: Precision and F-score are ill-defined and being set to 0.0 in labels with no predicted samples. Use `zero_division` parameter to control this behavior.\n",
            "  _warn_prf(average, modifier, msg_start, len(result))\n"
          ]
        }
      ]
    },
    {
      "cell_type": "code",
      "source": [
        "from sklearn.ensemble import RandomForestClassifier\n",
        "from sklearn.metrics import accuracy_score\n",
        "from sklearn.metrics import classification_report\n",
        "\n",
        "# Train a Random Forest model\n",
        "rf_model = RandomForestClassifier(n_estimators=100, random_state=42)\n",
        "rf_model.fit(avg_emb_train, train_labels)\n",
        "\n",
        "# Make predictions\n",
        "predictions = rf_model.predict(avg_emb_test)\n",
        "\n",
        "# Calculate accuracy\n",
        "accuracy = accuracy_score(test_labels, predictions)\n",
        "print(f\"Accuracy using rf model: {accuracy:.4f}\")\n",
        "\n",
        "report = classification_report(test_labels, predictions)\n",
        "\n",
        "# Print the report\n",
        "\n",
        "\n",
        "print(report)\n"
      ],
      "metadata": {
        "colab": {
          "base_uri": "https://localhost:8080/"
        },
        "id": "e8jj0aFGg3BL",
        "outputId": "e018a871-0059-46b2-d7cb-22c424f21888"
      },
      "execution_count": null,
      "outputs": [
        {
          "output_type": "stream",
          "name": "stdout",
          "text": [
            "Accuracy using rf model: 0.3075\n",
            "              precision    recall  f1-score   support\n",
            "\n",
            "         1.0       0.00      0.00      0.00       148\n",
            "         2.0       0.00      0.00      0.00        97\n",
            "         3.0       0.00      0.00      0.00       165\n",
            "         4.0       0.19      0.73      0.30       375\n",
            "         5.0       0.62      0.28      0.39      1215\n",
            "\n",
            "    accuracy                           0.31      2000\n",
            "   macro avg       0.16      0.20      0.14      2000\n",
            "weighted avg       0.41      0.31      0.29      2000\n",
            "\n"
          ]
        },
        {
          "output_type": "stream",
          "name": "stderr",
          "text": [
            "/usr/local/lib/python3.10/dist-packages/sklearn/metrics/_classification.py:1344: UndefinedMetricWarning: Precision and F-score are ill-defined and being set to 0.0 in labels with no predicted samples. Use `zero_division` parameter to control this behavior.\n",
            "  _warn_prf(average, modifier, msg_start, len(result))\n",
            "/usr/local/lib/python3.10/dist-packages/sklearn/metrics/_classification.py:1344: UndefinedMetricWarning: Precision and F-score are ill-defined and being set to 0.0 in labels with no predicted samples. Use `zero_division` parameter to control this behavior.\n",
            "  _warn_prf(average, modifier, msg_start, len(result))\n",
            "/usr/local/lib/python3.10/dist-packages/sklearn/metrics/_classification.py:1344: UndefinedMetricWarning: Precision and F-score are ill-defined and being set to 0.0 in labels with no predicted samples. Use `zero_division` parameter to control this behavior.\n",
            "  _warn_prf(average, modifier, msg_start, len(result))\n"
          ]
        }
      ]
    },
    {
      "cell_type": "code",
      "source": [
        "from sklearn.tree import DecisionTreeClassifier\n",
        "from sklearn.metrics import accuracy_score, classification_report\n",
        "\n",
        "# Train a Decision Tree model\n",
        "dt_model = DecisionTreeClassifier(random_state=42)  # You can adjust hyperparameters here\n",
        "# conc_emb_reduced_train = np.abs(conc_emb_reduced_train)\n",
        "dt_model.fit(avg_emb_train, train_labels)\n",
        "\n",
        "# Make predictions\n",
        "predictions = dt_model.predict(avg_emb_test)\n",
        "\n",
        "# Calculate accuracy\n",
        "accuracy = accuracy_score(test_labels, predictions)\n",
        "print(f\"Accuracy using Decision Tree model: {accuracy:.4f}\")\n",
        "\n",
        "report = classification_report(test_labels, predictions)\n",
        "\n",
        "# Print the report\n",
        "print(report)\n"
      ],
      "metadata": {
        "colab": {
          "base_uri": "https://localhost:8080/"
        },
        "id": "LKgWi2xXiXxA",
        "outputId": "62a8c536-d53f-4db7-c1f3-74302f267a53"
      },
      "execution_count": null,
      "outputs": [
        {
          "output_type": "stream",
          "name": "stdout",
          "text": [
            "Accuracy using Decision Tree model: 0.1410\n",
            "              precision    recall  f1-score   support\n",
            "\n",
            "         1.0       0.07      0.61      0.13       148\n",
            "         2.0       0.00      0.00      0.00        97\n",
            "         3.0       0.10      0.05      0.07       165\n",
            "         4.0       0.16      0.20      0.18       375\n",
            "         5.0       0.65      0.09      0.16      1215\n",
            "\n",
            "    accuracy                           0.14      2000\n",
            "   macro avg       0.20      0.19      0.11      2000\n",
            "weighted avg       0.44      0.14      0.14      2000\n",
            "\n"
          ]
        }
      ]
    },
    {
      "cell_type": "code",
      "source": [
        "from sklearn.linear_model import LogisticRegression\n",
        "from sklearn.metrics import accuracy_score, classification_report\n",
        "from sklearn.pipeline import make_pipeline\n",
        "from sklearn.preprocessing import StandardScaler\n",
        "\n",
        "# Train a Logistic Regression model\n",
        "lr_model = LogisticRegression(random_state=42)\n",
        "# lr_model.fit(avg_emb_train, train_labels)\n",
        "\n",
        "pipe = make_pipeline(StandardScaler(), LogisticRegression())\n",
        "pipe.fit(avg_emb_train, train_labels)  # apply scaling on training data\n",
        "# Pipeline(steps=[('standardscaler', StandardScaler()),\n",
        "#                 ('logisticregression', LogisticRegression())])\n",
        "\n",
        "# Make predictions\n",
        "# predictions = lr_model.predict(avg_emb_train)\n",
        "\n",
        "# Calculate accuracy\n",
        "# accuracy = accuracy_score(test_labels, predictions)\n",
        "accuracy=pipe.score(avg_emb_test,test_labels,)\n",
        "print(f\"Accuracy using Logistic Regression model: {accuracy:.4f}\")\n",
        "\n",
        "# report = classification_report(test_labels, predictions)\n",
        "\n",
        "# Print the report\n",
        "print(report)\n",
        "\n",
        "\n",
        "# Calculate accuracy\n",
        "from sklearn.metrics import mean_absolute_error\n",
        "\n",
        "mae = mean_absolute_error(test_labels, predictions)\n",
        "print(f\"Mean Absolute Error : {mae:.4f}\")\n"
      ],
      "metadata": {
        "colab": {
          "base_uri": "https://localhost:8080/"
        },
        "id": "7gQEnTTIi7IP",
        "outputId": "334f1a56-c4ed-470c-86c7-da879a67f125"
      },
      "execution_count": null,
      "outputs": [
        {
          "output_type": "stream",
          "name": "stdout",
          "text": [
            "Accuracy using Logistic Regression model: 0.0700\n",
            "              precision    recall  f1-score   support\n",
            "\n",
            "         1.0       0.09      0.16      0.11       148\n",
            "         2.0       0.02      0.04      0.03        97\n",
            "         3.0       0.07      0.21      0.10       165\n",
            "         4.0       0.18      0.30      0.22       375\n",
            "         5.0       0.61      0.21      0.31      1215\n",
            "\n",
            "    accuracy                           0.22      2000\n",
            "   macro avg       0.19      0.18      0.16      2000\n",
            "weighted avg       0.41      0.22      0.25      2000\n",
            "\n",
            "Mean Absolute Error : 1.2622\n"
          ]
        },
        {
          "output_type": "stream",
          "name": "stderr",
          "text": [
            "/usr/local/lib/python3.10/dist-packages/sklearn/linear_model/_logistic.py:458: ConvergenceWarning: lbfgs failed to converge (status=1):\n",
            "STOP: TOTAL NO. of ITERATIONS REACHED LIMIT.\n",
            "\n",
            "Increase the number of iterations (max_iter) or scale the data as shown in:\n",
            "    https://scikit-learn.org/stable/modules/preprocessing.html\n",
            "Please also refer to the documentation for alternative solver options:\n",
            "    https://scikit-learn.org/stable/modules/linear_model.html#logistic-regression\n",
            "  n_iter_i = _check_optimize_result(\n"
          ]
        }
      ]
    },
    {
      "cell_type": "code",
      "source": [
        "avg_emb_train.shape\n"
      ],
      "metadata": {
        "colab": {
          "base_uri": "https://localhost:8080/"
        },
        "id": "zhSoCnkYRDnq",
        "outputId": "7ec2282f-a59c-4877-8bf7-357af0e5905d"
      },
      "execution_count": null,
      "outputs": [
        {
          "output_type": "execute_result",
          "data": {
            "text/plain": [
              "(8000, 300)"
            ]
          },
          "metadata": {},
          "execution_count": 47
        }
      ]
    },
    {
      "cell_type": "code",
      "source": [
        "# import numpy as np\n",
        "# import tensorflow as tf\n",
        "# from tensorflow.keras.models import Sequential\n",
        "# from tensorflow.keras.layers import LSTM, Dense, Embedding\n",
        "# from sklearn.metrics import accuracy_score, classification_report\n",
        "\n",
        "# # Create and preprocess your sequence data\n",
        "# # For example, you might have sequences of word embeddings like avg_emb_train and avg_emb_test\n",
        "\n",
        "# # Build the LSTM model\n",
        "# model = Sequential([\n",
        "#     Embedding(input_dim=300, output_dim=300, input_length=8000),\n",
        "#     LSTM(units=128, dropout=0.2, recurrent_dropout=0.2),\n",
        "#     Dense(units=3, activation='softmax')\n",
        "# ])\n",
        "\n",
        "# # Compile the model\n",
        "# model.compile(optimizer='adam', loss='categorical_crossentropy', metrics=['accuracy'])\n",
        "\n",
        "# # Train the LSTM model\n",
        "# model.fit(avg_emb_train, train_labels, epochs=100, batch_size=100)\n",
        "\n",
        "# # Make predictions\n",
        "# predictions_probs = model.predict(avg_emb_test)\n",
        "# predictions = np.argmax(predictions_probs, axis=1)\n",
        "\n",
        "# # Calculate accuracy\n",
        "# accuracy = accuracy_score(test_labels, predictions)\n",
        "# print(f\"Accuracy using LSTM model: {accuracy:.4f}\")\n",
        "\n",
        "# report = classification_report(test_labels, predictions)\n",
        "\n",
        "# # Print the report\n",
        "# print(report)\n"
      ],
      "metadata": {
        "id": "crlYivjUQ3AI"
      },
      "execution_count": null,
      "outputs": []
    },
    {
      "cell_type": "code",
      "source": [
        "from keras.models import Sequential\n",
        "from keras.layers import Embedding, Bidirectional, GRU, Dense\n",
        "\n",
        "vocab_size = 10000  # Adjust based on your vocabulary size\n",
        "embedding_dim = 300\n",
        "max_sequence_length = 300  # Adjust based on your maximum review length\n",
        "\n",
        "model = Sequential()\n",
        "model.add(Embedding(vocab_size, embedding_dim, input_length=max_sequence_length))\n",
        "model.add(Bidirectional(GRU(128)))\n",
        "model.add(Dense(1, activation='linear'))  # Assuming rating is a numerical value\n",
        "\n",
        "model.compile(optimizer='adam', loss='mean_squared_error')\n"
      ],
      "metadata": {
        "id": "t7y9oGq-VgAC"
      },
      "execution_count": null,
      "outputs": []
    },
    {
      "cell_type": "code",
      "source": [
        "model.fit(avg_emb_train, train_labels, validation_data=(avg_emb_train, train_labels), epochs=10, batch_size=32)\n"
      ],
      "metadata": {
        "colab": {
          "base_uri": "https://localhost:8080/"
        },
        "id": "BjHS9n32VtZg",
        "outputId": "5e823c5f-26a7-41c9-fcce-3420ccbeaad0"
      },
      "execution_count": null,
      "outputs": [
        {
          "output_type": "stream",
          "name": "stdout",
          "text": [
            "Epoch 1/10\n",
            "250/250 [==============================] - 13s 37ms/step - loss: 1.9570 - val_loss: 1.5103\n",
            "Epoch 2/10\n",
            "250/250 [==============================] - 8s 32ms/step - loss: 1.5332 - val_loss: 1.5122\n",
            "Epoch 3/10\n",
            "250/250 [==============================] - 8s 33ms/step - loss: 1.5347 - val_loss: 1.5086\n",
            "Epoch 4/10\n",
            "250/250 [==============================] - 8s 33ms/step - loss: 1.5411 - val_loss: 1.5444\n",
            "Epoch 5/10\n",
            "250/250 [==============================] - 9s 35ms/step - loss: 1.5236 - val_loss: 1.5096\n",
            "Epoch 6/10\n",
            "250/250 [==============================] - 8s 31ms/step - loss: 1.5416 - val_loss: 1.5389\n",
            "Epoch 7/10\n",
            "250/250 [==============================] - 8s 32ms/step - loss: 1.5304 - val_loss: 1.5172\n",
            "Epoch 8/10\n",
            "250/250 [==============================] - 8s 33ms/step - loss: 1.5325 - val_loss: 1.5859\n",
            "Epoch 9/10\n",
            "250/250 [==============================] - 8s 30ms/step - loss: 1.5328 - val_loss: 1.5197\n",
            "Epoch 10/10\n",
            "250/250 [==============================] - 8s 32ms/step - loss: 1.5280 - val_loss: 1.5624\n"
          ]
        },
        {
          "output_type": "execute_result",
          "data": {
            "text/plain": [
              "<keras.callbacks.History at 0x7a81500ed480>"
            ]
          },
          "metadata": {},
          "execution_count": 50
        }
      ]
    },
    {
      "cell_type": "code",
      "source": [
        "predictions = model.predict(avg_emb_test)\n"
      ],
      "metadata": {
        "colab": {
          "base_uri": "https://localhost:8080/"
        },
        "id": "Lyp1DzOiVvNC",
        "outputId": "63acb28b-ce93-4f03-8832-ed84b35ded95"
      },
      "execution_count": null,
      "outputs": [
        {
          "output_type": "stream",
          "name": "stdout",
          "text": [
            "63/63 [==============================] - 1s 10ms/step\n"
          ]
        }
      ]
    },
    {
      "cell_type": "code",
      "source": [
        "# Calculate accuracy\n",
        "from sklearn.metrics import mean_absolute_error\n",
        "\n",
        "mae = mean_absolute_error(test_labels, predictions)\n",
        "print(f\"Mean Absolute Error using bi gru: {mae:.4f}\")"
      ],
      "metadata": {
        "colab": {
          "base_uri": "https://localhost:8080/"
        },
        "id": "SOkw7dohWNXu",
        "outputId": "e78ca970-2cbb-4525-d56a-cdca715389b5"
      },
      "execution_count": null,
      "outputs": [
        {
          "output_type": "stream",
          "name": "stdout",
          "text": [
            "Mean Absolute Error using bi gru: 0.9849\n"
          ]
        }
      ]
    },
    {
      "cell_type": "code",
      "source": [
        "from keras.models import Sequential\n",
        "from keras.layers import Embedding, LSTM, Dense\n",
        "\n",
        "vocab_size = 10000  # Adjust based on your vocabulary size\n",
        "embedding_dim = 300\n",
        "max_sequence_length = 300  # Adjust based on your maximum review length\n",
        "\n",
        "model = Sequential()\n",
        "model.add(Embedding(vocab_size, embedding_dim, input_length=max_sequence_length))\n",
        "model.add(LSTM(128))\n",
        "# model.add(Dense(128, activation='relu'))\n",
        "model.add(Dense(1, activation='linear'))  # Assuming rating is a numerical value\n",
        "\n",
        "model.compile(optimizer='adam', loss='mean_squared_error', metrics=['mae'])\n",
        "\n",
        "\n",
        "model.fit(avg_emb_train, train_labels, validation_data=(avg_emb_train, train_labels), epochs=10, batch_size=32)\n",
        "\n",
        "predictions = model.predict(avg_emb_test)\n",
        "\n",
        "\n",
        "# Calculate accuracy\n",
        "from sklearn.metrics import mean_absolute_error\n",
        "\n",
        "mae = mean_absolute_error(test_labels, predictions)\n",
        "print(f\"Mean Absolute Error using LSTM: {mae:.4f}\")\n"
      ],
      "metadata": {
        "colab": {
          "base_uri": "https://localhost:8080/"
        },
        "id": "FThGWzon15V_",
        "outputId": "dd3d087e-a959-4ea9-aae4-37e2475b011e"
      },
      "execution_count": null,
      "outputs": [
        {
          "output_type": "stream",
          "name": "stdout",
          "text": [
            "Epoch 1/10\n",
            "250/250 [==============================] - 7s 20ms/step - loss: 1.8632 - mae: 1.0341 - val_loss: 1.5102 - val_mae: 0.9653\n",
            "Epoch 2/10\n",
            "250/250 [==============================] - 5s 20ms/step - loss: 1.5341 - mae: 0.9668 - val_loss: 1.5632 - val_mae: 1.0214\n",
            "Epoch 3/10\n",
            "250/250 [==============================] - 4s 17ms/step - loss: 1.5261 - mae: 0.9644 - val_loss: 1.5149 - val_mae: 0.9484\n",
            "Epoch 4/10\n",
            "250/250 [==============================] - 4s 17ms/step - loss: 1.5191 - mae: 0.9614 - val_loss: 1.5100 - val_mae: 0.9624\n",
            "Epoch 5/10\n",
            "250/250 [==============================] - 5s 20ms/step - loss: 1.5210 - mae: 0.9653 - val_loss: 1.5228 - val_mae: 0.9846\n",
            "Epoch 6/10\n",
            "250/250 [==============================] - 4s 18ms/step - loss: 1.5199 - mae: 0.9630 - val_loss: 1.5404 - val_mae: 0.9967\n",
            "Epoch 7/10\n",
            "250/250 [==============================] - 4s 18ms/step - loss: 1.5224 - mae: 0.9628 - val_loss: 1.5136 - val_mae: 0.9503\n",
            "Epoch 8/10\n",
            "250/250 [==============================] - 5s 20ms/step - loss: 1.5189 - mae: 0.9630 - val_loss: 1.5138 - val_mae: 0.9745\n",
            "Epoch 9/10\n",
            "250/250 [==============================] - 4s 17ms/step - loss: 1.5175 - mae: 0.9631 - val_loss: 1.5256 - val_mae: 0.9375\n",
            "Epoch 10/10\n",
            "250/250 [==============================] - 4s 18ms/step - loss: 1.5216 - mae: 0.9623 - val_loss: 1.5177 - val_mae: 0.9449\n",
            "63/63 [==============================] - 1s 7ms/step\n",
            "Mean Absolute Error using LSTM: 0.9479\n"
          ]
        }
      ]
    },
    {
      "cell_type": "code",
      "source": [
        "from keras.models import Sequential\n",
        "from keras.layers import Embedding, Bidirectional, LSTM, Dense\n",
        "\n",
        "vocab_size = 10000  # Adjust based on your vocabulary size\n",
        "embedding_dim = 300\n",
        "max_sequence_length = 300  # Adjust based on your maximum review length\n",
        "\n",
        "model = Sequential()\n",
        "model.add(Embedding(vocab_size, embedding_dim, input_length=max_sequence_length))\n",
        "model.add(Bidirectional(LSTM(128)))  # Bidirectional layer\n",
        "model.add(Dense(1, activation='linear'))  # Assuming rating is a numerical value\n",
        "\n",
        "model.compile(optimizer='adam', loss='mean_squared_error')\n",
        "\n",
        "model.fit(avg_emb_train, train_labels, validation_data=(avg_emb_train, train_labels), epochs=10, batch_size=32)\n",
        "\n",
        "predictions = model.predict(avg_emb_test)\n",
        "\n",
        "# Calculate accuracy\n",
        "from sklearn.metrics import mean_absolute_error\n",
        "\n",
        "mae = mean_absolute_error(test_labels, predictions)\n",
        "print(f\"Mean Absolute Error using Bi LSTM: {mae:.4f}\")"
      ],
      "metadata": {
        "colab": {
          "base_uri": "https://localhost:8080/"
        },
        "id": "yqmkZ2G320kL",
        "outputId": "3f68cf3c-c707-42cd-9f8d-feafa7486e91"
      },
      "execution_count": null,
      "outputs": [
        {
          "output_type": "stream",
          "name": "stdout",
          "text": [
            "Epoch 1/10\n",
            "250/250 [==============================] - 13s 35ms/step - loss: 1.8252 - val_loss: 1.5134\n",
            "Epoch 2/10\n",
            "250/250 [==============================] - 8s 33ms/step - loss: 1.5256 - val_loss: 1.5280\n",
            "Epoch 3/10\n",
            "250/250 [==============================] - 8s 33ms/step - loss: 1.5233 - val_loss: 1.5133\n",
            "Epoch 4/10\n",
            "250/250 [==============================] - 8s 32ms/step - loss: 1.5304 - val_loss: 1.5098\n",
            "Epoch 5/10\n",
            "250/250 [==============================] - 8s 34ms/step - loss: 1.5310 - val_loss: 1.5094\n",
            "Epoch 6/10\n",
            "250/250 [==============================] - 8s 32ms/step - loss: 1.5195 - val_loss: 1.5114\n",
            "Epoch 7/10\n",
            "250/250 [==============================] - 8s 33ms/step - loss: 1.5195 - val_loss: 1.5486\n",
            "Epoch 8/10\n",
            "250/250 [==============================] - 9s 34ms/step - loss: 1.5218 - val_loss: 1.5272\n",
            "Epoch 9/10\n",
            "250/250 [==============================] - 8s 31ms/step - loss: 1.5203 - val_loss: 1.5099\n",
            "Epoch 10/10\n",
            "250/250 [==============================] - 9s 35ms/step - loss: 1.5238 - val_loss: 1.5096\n",
            "63/63 [==============================] - 1s 9ms/step\n",
            "Mean Absolute Error using Bi LSTM: 0.9656\n"
          ]
        }
      ]
    },
    {
      "cell_type": "code",
      "source": [
        "from keras.models import Sequential\n",
        "from keras.layers import Embedding, GRU, Dense\n",
        "\n",
        "vocab_size = 10000  # Adjust based on your vocabulary size\n",
        "embedding_dim = 300\n",
        "max_sequence_length = 300  # Adjust based on your maximum review length\n",
        "\n",
        "model = Sequential()\n",
        "model.add(Embedding(vocab_size, embedding_dim, input_length=max_sequence_length))\n",
        "model.add(GRU(128))  # GRU layer\n",
        "model.add(Dense(1, activation='linear'))  # Assuming rating is a numerical value\n",
        "\n",
        "model.compile(optimizer='adam', loss='mean_squared_error')\n",
        "\n",
        "model.fit(avg_emb_train, train_labels, validation_data=(avg_emb_train, train_labels), epochs=10, batch_size=32)\n",
        "\n",
        "predictions = model.predict(avg_emb_test)\n",
        "\n",
        "# Calculate accuracy\n",
        "from sklearn.metrics import mean_absolute_error\n",
        "\n",
        "mae = mean_absolute_error(test_labels, predictions)\n",
        "print(f\"Mean Absolute Error: {mae:.4f}\")\n",
        "# print(f\"Accuracy using Decision Tree model: {mae:.4f}\")\n",
        "\n",
        "# report = classification_report(test_labels, predictions)\n",
        "\n",
        "# Print the report\n",
        "# print(report)"
      ],
      "metadata": {
        "colab": {
          "base_uri": "https://localhost:8080/"
        },
        "id": "NM-RJ9TQ34qQ",
        "outputId": "5a138521-601f-4749-df3b-f5b53e7804b9"
      },
      "execution_count": null,
      "outputs": [
        {
          "output_type": "stream",
          "name": "stdout",
          "text": [
            "Epoch 1/10\n",
            "250/250 [==============================] - 8s 23ms/step - loss: 1.9691 - val_loss: 1.5100\n",
            "Epoch 2/10\n",
            "250/250 [==============================] - 4s 17ms/step - loss: 1.5297 - val_loss: 1.5645\n",
            "Epoch 3/10\n",
            "250/250 [==============================] - 4s 17ms/step - loss: 1.5366 - val_loss: 1.5121\n",
            "Epoch 4/10\n",
            "250/250 [==============================] - 5s 19ms/step - loss: 1.5363 - val_loss: 1.5204\n",
            "Epoch 5/10\n",
            "250/250 [==============================] - 4s 17ms/step - loss: 1.5312 - val_loss: 1.5127\n",
            "Epoch 6/10\n",
            "250/250 [==============================] - 4s 17ms/step - loss: 1.5432 - val_loss: 1.5534\n",
            "Epoch 7/10\n",
            "250/250 [==============================] - 5s 20ms/step - loss: 1.5244 - val_loss: 1.5959\n",
            "Epoch 8/10\n",
            "250/250 [==============================] - 4s 18ms/step - loss: 1.5216 - val_loss: 1.5160\n",
            "Epoch 9/10\n",
            "250/250 [==============================] - 4s 18ms/step - loss: 1.5257 - val_loss: 1.5379\n",
            "Epoch 10/10\n",
            "250/250 [==============================] - 6s 24ms/step - loss: 1.5303 - val_loss: 1.5337\n",
            "63/63 [==============================] - 1s 8ms/step\n",
            "Mean Absolute Error: 0.9999\n"
          ]
        }
      ]
    },
    {
      "cell_type": "markdown",
      "source": [
        "**CONCATENATION OF EMBEDDINGS**"
      ],
      "metadata": {
        "id": "OOsa7JdgfSwQ"
      }
    },
    {
      "cell_type": "code",
      "source": [
        "conc_emb_train=np.concatenate((fast_emb_train,glove_emb_train,word_train_emb), axis=0)\n",
        "conc_emb_test=np.concatenate((fast_emb_test,glove_emb_test,word_test_emb), axis=0)\n",
        "\n",
        "# print(fast_emb_train[:50])"
      ],
      "metadata": {
        "id": "GagN3xC7nZ8x"
      },
      "execution_count": null,
      "outputs": []
    },
    {
      "cell_type": "code",
      "source": [
        "\n",
        "# three_dim = PCA(random_state=0).fit_transform(word_vectors)[:,:200]"
      ],
      "metadata": {
        "id": "ld0cvn9rQwGg"
      },
      "execution_count": null,
      "outputs": []
    },
    {
      "cell_type": "code",
      "source": [
        "import numpy as np\n",
        "from sklearn.decomposition import PCA\n",
        "import matplotlib.pyplot as plt\n",
        "\n",
        "# Assuming 'conc_emb' contains concatenated embeddings\n",
        "pca = PCA(random_state=0)\n",
        "conc_emb_reduced_train= pca.fit_transform(conc_emb_train)[:8000] # Apply PCA transformation\n",
        "# label_pca=pca.fit_transform(train_labels)\n",
        "\n",
        "explained_variance_ratio = pca.explained_variance_ratio_\n",
        "cumulative_variance = np.cumsum(explained_variance_ratio)\n",
        "\n",
        "plt.plot(cumulative_variance)\n",
        "plt.xlabel('Number of Components')\n",
        "plt.ylabel('Cumulative Explained Variance')\n",
        "plt.title('Explained Variance Curve')\n",
        "plt.show()\n"
      ],
      "metadata": {
        "colab": {
          "base_uri": "https://localhost:8080/",
          "height": 472
        },
        "id": "kC3UiM_2RH17",
        "outputId": "1fa0b134-33ac-48aa-d5bf-98e9330957f3"
      },
      "execution_count": null,
      "outputs": [
        {
          "output_type": "display_data",
          "data": {
            "text/plain": [
              "<Figure size 640x480 with 1 Axes>"
            ],
            "image/png": "[encoded data removed]"
          },
          "metadata": {}
        }
      ]
    },
    {
      "cell_type": "code",
      "source": [
        "import numpy as np\n",
        "from sklearn.decomposition import PCA\n",
        "import matplotlib.pyplot as plt\n",
        "\n",
        "# Assuming 'conc_emb' contains concatenated embeddings\n",
        "pca = PCA(random_state=0)\n",
        "conc_emb_reduced_test= pca.fit_transform(conc_emb_test)[:2000] # Apply PCA transformation\n",
        "# label_pca=pca.fit_transform(train_labels)\n",
        "\n",
        "explained_variance_ratio = pca.explained_variance_ratio_\n",
        "cumulative_variance = np.cumsum(explained_variance_ratio)\n",
        "\n",
        "plt.plot(cumulative_variance)\n",
        "plt.xlabel('Number of Components')\n",
        "plt.ylabel('Cumulative Explained Variance')\n",
        "plt.title('Explained Variance Curve')\n",
        "plt.show()\n"
      ],
      "metadata": {
        "colab": {
          "base_uri": "https://localhost:8080/",
          "height": 472
        },
        "id": "WEY1fJ2HbPLT",
        "outputId": "e8698f4d-a95a-44b8-cc64-d2e85be567e5"
      },
      "execution_count": null,
      "outputs": [
        {
          "output_type": "display_data",
          "data": {
            "text/plain": [
              "<Figure size 640x480 with 1 Axes>"
            ],
            "image/png": "[encoded data removed]"
          },
          "metadata": {}
        }
      ]
    },
    {
      "cell_type": "code",
      "source": [
        "train_labels.describe()"
      ],
      "metadata": {
        "colab": {
          "base_uri": "https://localhost:8080/"
        },
        "id": "qdzuqpfNKmYo",
        "outputId": "03428b07-08ec-4f1d-85bf-2a9a064fb1a5"
      },
      "execution_count": null,
      "outputs": [
        {
          "output_type": "execute_result",
          "data": {
            "text/plain": [
              "count    8000.000000\n",
              "mean        4.196625\n",
              "std         1.228883\n",
              "min         1.000000\n",
              "25%         4.000000\n",
              "50%         5.000000\n",
              "75%         5.000000\n",
              "max         5.000000\n",
              "Name: star_rating, dtype: float64"
            ]
          },
          "metadata": {},
          "execution_count": 60
        }
      ]
    },
    {
      "cell_type": "code",
      "source": [
        "from sklearn.svm import SVC\n",
        "from sklearn.metrics import accuracy_score\n",
        "from sklearn.metrics import classification_report\n",
        "\n",
        "svm_model = SVC(kernel='linear', C=1.0)\n",
        "# train_labels=train_labels[:200]\n",
        "svm_model.fit(conc_emb_reduced_train, train_labels)\n",
        "\n",
        "# Make predictions\n",
        "predictions = svm_model.predict(conc_emb_reduced_test)\n",
        "\n",
        "# Calculate accuracy\n",
        "accuracy = accuracy_score(test_labels, predictions)\n",
        "print(f\"Accuracy using svm: {accuracy:.4f}\")\n",
        "\n",
        "report = classification_report(test_labels, predictions);\n",
        "\n",
        "# Print the report\n",
        "\n",
        "\n",
        "print(report)"
      ],
      "metadata": {
        "colab": {
          "base_uri": "https://localhost:8080/"
        },
        "id": "m7J5h0BUtIfK",
        "outputId": "f154ccc9-099c-4a41-9385-ddc094996543"
      },
      "execution_count": null,
      "outputs": [
        {
          "output_type": "stream",
          "name": "stdout",
          "text": [
            "Accuracy using svm: 0.6075\n",
            "              precision    recall  f1-score   support\n",
            "\n",
            "         1.0       0.00      0.00      0.00       148\n",
            "         2.0       0.00      0.00      0.00        97\n",
            "         3.0       0.00      0.00      0.00       165\n",
            "         4.0       0.00      0.00      0.00       375\n",
            "         5.0       0.61      1.00      0.76      1215\n",
            "\n",
            "    accuracy                           0.61      2000\n",
            "   macro avg       0.12      0.20      0.15      2000\n",
            "weighted avg       0.37      0.61      0.46      2000\n",
            "\n"
          ]
        },
        {
          "output_type": "stream",
          "name": "stderr",
          "text": [
            "/usr/local/lib/python3.10/dist-packages/sklearn/metrics/_classification.py:1344: UndefinedMetricWarning: Precision and F-score are ill-defined and being set to 0.0 in labels with no predicted samples. Use `zero_division` parameter to control this behavior.\n",
            "  _warn_prf(average, modifier, msg_start, len(result))\n",
            "/usr/local/lib/python3.10/dist-packages/sklearn/metrics/_classification.py:1344: UndefinedMetricWarning: Precision and F-score are ill-defined and being set to 0.0 in labels with no predicted samples. Use `zero_division` parameter to control this behavior.\n",
            "  _warn_prf(average, modifier, msg_start, len(result))\n",
            "/usr/local/lib/python3.10/dist-packages/sklearn/metrics/_classification.py:1344: UndefinedMetricWarning: Precision and F-score are ill-defined and being set to 0.0 in labels with no predicted samples. Use `zero_division` parameter to control this behavior.\n",
            "  _warn_prf(average, modifier, msg_start, len(result))\n"
          ]
        }
      ]
    },
    {
      "cell_type": "code",
      "source": [
        "from sklearn.naive_bayes import MultinomialNB\n",
        "from sklearn.metrics import accuracy_score\n",
        "from sklearn.metrics import classification_report\n",
        "\n",
        "# Train a Multinomial Naive Bayes model\n",
        "nb_model = MultinomialNB()\n",
        "conc_emb_reduced_train=np.abs(conc_emb_reduced_train)\n",
        "nb_model.fit(conc_emb_reduced_train, train_labels)\n",
        "\n",
        "# Make predictions\n",
        "predictions = nb_model.predict(conc_emb_reduced_test)\n",
        "\n",
        "# Calculate accuracy\n",
        "accuracy = accuracy_score(test_labels, predictions)\n",
        "print(f\"Accuracy using fast text embeddings and naive bayes model: {accuracy:.2f}\")\n",
        "\n",
        "report = classification_report(test_labels, predictions)\n",
        "\n",
        "# Print the report\n",
        "\n",
        "\n",
        "print(report)\n"
      ],
      "metadata": {
        "colab": {
          "base_uri": "https://localhost:8080/"
        },
        "id": "AcHfhKTWYTjA",
        "outputId": "1d7e8084-49ab-4aba-f801-e37cf08c7049"
      },
      "execution_count": null,
      "outputs": [
        {
          "output_type": "stream",
          "name": "stdout",
          "text": [
            "Accuracy using fast text embeddings and naive bayes model: 0.61\n",
            "              precision    recall  f1-score   support\n",
            "\n",
            "         1.0       0.00      0.00      0.00       148\n",
            "         2.0       0.00      0.00      0.00        97\n",
            "         3.0       0.00      0.00      0.00       165\n",
            "         4.0       0.00      0.00      0.00       375\n",
            "         5.0       0.61      1.00      0.76      1215\n",
            "\n",
            "    accuracy                           0.61      2000\n",
            "   macro avg       0.12      0.20      0.15      2000\n",
            "weighted avg       0.37      0.61      0.46      2000\n",
            "\n"
          ]
        },
        {
          "output_type": "stream",
          "name": "stderr",
          "text": [
            "/usr/local/lib/python3.10/dist-packages/sklearn/metrics/_classification.py:1344: UndefinedMetricWarning: Precision and F-score are ill-defined and being set to 0.0 in labels with no predicted samples. Use `zero_division` parameter to control this behavior.\n",
            "  _warn_prf(average, modifier, msg_start, len(result))\n",
            "/usr/local/lib/python3.10/dist-packages/sklearn/metrics/_classification.py:1344: UndefinedMetricWarning: Precision and F-score are ill-defined and being set to 0.0 in labels with no predicted samples. Use `zero_division` parameter to control this behavior.\n",
            "  _warn_prf(average, modifier, msg_start, len(result))\n",
            "/usr/local/lib/python3.10/dist-packages/sklearn/metrics/_classification.py:1344: UndefinedMetricWarning: Precision and F-score are ill-defined and being set to 0.0 in labels with no predicted samples. Use `zero_division` parameter to control this behavior.\n",
            "  _warn_prf(average, modifier, msg_start, len(result))\n"
          ]
        }
      ]
    },
    {
      "cell_type": "code",
      "source": [
        "from sklearn.ensemble import RandomForestClassifier\n",
        "from sklearn.metrics import accuracy_score\n",
        "from sklearn.metrics import classification_report\n",
        "\n",
        "# Train a Random Forest model\n",
        "rf_model = RandomForestClassifier(n_estimators=100, random_state=42)\n",
        "rf_model.fit(conc_emb_reduced_train, train_labels)\n",
        "\n",
        "# Make predictions\n",
        "predictions = rf_model.predict(conc_emb_reduced_test)\n",
        "\n",
        "# Calculate accuracy\n",
        "accuracy = accuracy_score(test_labels, predictions)\n",
        "print(f\"Accuracy using rf model: {accuracy:.4f}\")\n",
        "\n",
        "report = classification_report(test_labels, predictions)\n",
        "\n",
        "# Print the report\n",
        "\n",
        "\n",
        "print(report)\n"
      ],
      "metadata": {
        "colab": {
          "base_uri": "https://localhost:8080/"
        },
        "id": "KENS9k3NfpXU",
        "outputId": "7092300c-4691-4700-ded2-ed4a1f2749c4"
      },
      "execution_count": null,
      "outputs": [
        {
          "output_type": "stream",
          "name": "stdout",
          "text": [
            "Accuracy using rf model: 0.2820\n",
            "              precision    recall  f1-score   support\n",
            "\n",
            "         1.0       0.00      0.00      0.00       148\n",
            "         2.0       0.00      0.00      0.00        97\n",
            "         3.0       0.05      0.03      0.04       165\n",
            "         4.0       0.19      0.71      0.30       375\n",
            "         5.0       0.59      0.24      0.34      1215\n",
            "\n",
            "    accuracy                           0.28      2000\n",
            "   macro avg       0.17      0.20      0.14      2000\n",
            "weighted avg       0.40      0.28      0.27      2000\n",
            "\n"
          ]
        }
      ]
    },
    {
      "cell_type": "code",
      "source": [
        "from sklearn.tree import DecisionTreeClassifier\n",
        "from sklearn.metrics import accuracy_score, classification_report\n",
        "\n",
        "# Train a Decision Tree model\n",
        "dt_model = DecisionTreeClassifier(random_state=42)  # You can adjust hyperparameters here\n",
        "# conc_emb_reduced_train = np.abs(conc_emb_reduced_train)\n",
        "dt_model.fit(conc_emb_reduced_train, train_labels)\n",
        "\n",
        "# Make predictions\n",
        "predictions = dt_model.predict(conc_emb_reduced_test)\n",
        "\n",
        "# Calculate accuracy\n",
        "accuracy = accuracy_score(test_labels, predictions)\n",
        "print(f\"Accuracy using Decision Tree model: {accuracy:.4f}\")\n",
        "\n",
        "report = classification_report(test_labels, predictions)\n",
        "\n",
        "# Print the report\n",
        "print(report)\n"
      ],
      "metadata": {
        "colab": {
          "base_uri": "https://localhost:8080/"
        },
        "id": "Dx5mtcvFhISL",
        "outputId": "576c71ac-8e48-4e60-a1cc-22b570065331"
      },
      "execution_count": null,
      "outputs": [
        {
          "output_type": "stream",
          "name": "stdout",
          "text": [
            "Accuracy using Decision Tree model: 0.2165\n",
            "              precision    recall  f1-score   support\n",
            "\n",
            "         1.0       0.09      0.16      0.11       148\n",
            "         2.0       0.02      0.04      0.03        97\n",
            "         3.0       0.07      0.21      0.10       165\n",
            "         4.0       0.18      0.30      0.22       375\n",
            "         5.0       0.61      0.21      0.31      1215\n",
            "\n",
            "    accuracy                           0.22      2000\n",
            "   macro avg       0.19      0.18      0.16      2000\n",
            "weighted avg       0.41      0.22      0.25      2000\n",
            "\n"
          ]
        }
      ]
    },
    {
      "cell_type": "code",
      "source": [],
      "metadata": {
        "id": "cu0dnX0xhXOT"
      },
      "execution_count": null,
      "outputs": []
    },
    {
      "cell_type": "code",
      "source": [
        "from keras.models import Sequential\n",
        "from keras.layers import Embedding, LSTM, Dense\n",
        "\n",
        "vocab_size = 10000  # Adjust based on your vocabulary size\n",
        "embedding_dim = 300\n",
        "max_sequence_length = 300  # Adjust based on your maximum review length\n",
        "\n",
        "model = Sequential()\n",
        "model.add(Embedding(vocab_size, embedding_dim, input_length=max_sequence_length))\n",
        "model.add(LSTM(128))\n",
        "# model.add(Dense(128, activation='relu'))\n",
        "model.add(Dense(1, activation='linear'))  # Assuming rating is a numerical value\n",
        "\n",
        "model.compile(optimizer='adam', loss='mean_squared_error', metrics=['mae'])\n"
      ],
      "metadata": {
        "id": "vg2dPn_jhn33"
      },
      "execution_count": null,
      "outputs": []
    },
    {
      "cell_type": "code",
      "source": [
        "model.fit(conc_emb_reduced_train, train_labels, validation_data=(conc_emb_reduced_train, train_labels), epochs=10, batch_size=32)\n"
      ],
      "metadata": {
        "colab": {
          "base_uri": "https://localhost:8080/"
        },
        "id": "qrjIbkM9hspQ",
        "outputId": "5571e024-f520-4d3c-bf98-f65e4a5cf3f6"
      },
      "execution_count": null,
      "outputs": [
        {
          "output_type": "stream",
          "name": "stdout",
          "text": [
            "Epoch 1/10\n",
            "250/250 [==============================] - 14s 22ms/step - loss: 1.8820 - mae: 1.0362 - val_loss: 1.5102 - val_mae: 0.9591\n",
            "Epoch 2/10\n",
            "250/250 [==============================] - 6s 24ms/step - loss: 1.5265 - mae: 0.9630 - val_loss: 1.5382 - val_mae: 0.9290\n",
            "Epoch 3/10\n",
            "250/250 [==============================] - 4s 17ms/step - loss: 1.5225 - mae: 0.9625 - val_loss: 1.5306 - val_mae: 0.9907\n",
            "Epoch 4/10\n",
            "250/250 [==============================] - 5s 20ms/step - loss: 1.5240 - mae: 0.9639 - val_loss: 1.5130 - val_mae: 0.9513\n",
            "Epoch 5/10\n",
            "250/250 [==============================] - 5s 20ms/step - loss: 1.5322 - mae: 0.9668 - val_loss: 1.5113 - val_mae: 0.9551\n",
            "Epoch 6/10\n",
            "250/250 [==============================] - 4s 17ms/step - loss: 1.5199 - mae: 0.9621 - val_loss: 1.5133 - val_mae: 0.9737\n",
            "Epoch 7/10\n",
            "250/250 [==============================] - 4s 17ms/step - loss: 1.5234 - mae: 0.9641 - val_loss: 1.5267 - val_mae: 0.9878\n",
            "Epoch 8/10\n",
            "250/250 [==============================] - 5s 20ms/step - loss: 1.5231 - mae: 0.9647 - val_loss: 1.5106 - val_mae: 0.9573\n",
            "Epoch 9/10\n",
            "250/250 [==============================] - 4s 17ms/step - loss: 1.5236 - mae: 0.9636 - val_loss: 1.5165 - val_mae: 0.9782\n",
            "Epoch 10/10\n",
            "250/250 [==============================] - 5s 18ms/step - loss: 1.5211 - mae: 0.9635 - val_loss: 1.5116 - val_mae: 0.9703\n"
          ]
        },
        {
          "output_type": "execute_result",
          "data": {
            "text/plain": [
              "<keras.callbacks.History at 0x7a80d8817c10>"
            ]
          },
          "metadata": {},
          "execution_count": 68
        }
      ]
    },
    {
      "cell_type": "code",
      "source": [
        "predictions = model.predict(conc_emb_reduced_test)\n"
      ],
      "metadata": {
        "colab": {
          "base_uri": "https://localhost:8080/"
        },
        "id": "IhHAXrdShuqK",
        "outputId": "890d6720-c2c1-40d1-a49d-9df14358463b"
      },
      "execution_count": null,
      "outputs": [
        {
          "output_type": "stream",
          "name": "stdout",
          "text": [
            "63/63 [==============================] - 2s 7ms/step\n"
          ]
        }
      ]
    },
    {
      "cell_type": "code",
      "source": [
        "test_labels.head()"
      ],
      "metadata": {
        "colab": {
          "base_uri": "https://localhost:8080/"
        },
        "id": "TlL3O0PizwQ0",
        "outputId": "338e9bc3-3c6b-45b5-9f46-d12ec7fcb230"
      },
      "execution_count": null,
      "outputs": [
        {
          "output_type": "execute_result",
          "data": {
            "text/plain": [
              "8000    5.0\n",
              "8001    5.0\n",
              "8002    4.0\n",
              "8003    4.0\n",
              "8004    5.0\n",
              "Name: star_rating, dtype: float64"
            ]
          },
          "metadata": {},
          "execution_count": 70
        }
      ]
    },
    {
      "cell_type": "code",
      "source": [
        "# predictions=pd.DataFrame(predictions)\n",
        "# predictions.head()"
      ],
      "metadata": {
        "id": "kI4RKyuKz1QA"
      },
      "execution_count": null,
      "outputs": []
    },
    {
      "cell_type": "code",
      "source": [
        "# Calculate accuracy\n",
        "from sklearn.metrics import mean_absolute_error\n",
        "\n",
        "mae = mean_absolute_error(test_labels, predictions)\n",
        "print(f\"Mean Absolute Error: {mae:.4f}\")\n"
      ],
      "metadata": {
        "colab": {
          "base_uri": "https://localhost:8080/"
        },
        "id": "6d9GC43GiIOS",
        "outputId": "516360b5-d563-4e9b-e9b0-f7ed0e381c8f"
      },
      "execution_count": null,
      "outputs": [
        {
          "output_type": "stream",
          "name": "stdout",
          "text": [
            "Mean Absolute Error: 0.9755\n"
          ]
        }
      ]
    },
    {
      "cell_type": "code",
      "source": [
        "from collections import Counter\n",
        "\n",
        "\n",
        "# Assuming 'data' is a list of text samples or sentences\n",
        "all_words = [word for sentence in X for word in sentence.split()]\n",
        "word_counts = Counter(all_words)\n",
        "vocab_size = len(word_counts)\n",
        "\n",
        "\n",
        "print(vocab_size)\n"
      ],
      "metadata": {
        "colab": {
          "base_uri": "https://localhost:8080/"
        },
        "id": "_EQcs9MmmFQO",
        "outputId": "482dc84a-3957-4198-fae6-3a6209ca2373"
      },
      "execution_count": null,
      "outputs": [
        {
          "output_type": "stream",
          "name": "stdout",
          "text": [
            "126925\n"
          ]
        }
      ]
    },
    {
      "cell_type": "code",
      "source": [
        "# Assuming 'data' is a list of text samples\n",
        "max_length = max(len(sentence.split()) for sentence in X)\n",
        "print(max_length)"
      ],
      "metadata": {
        "colab": {
          "base_uri": "https://localhost:8080/"
        },
        "id": "36Np3G8omKfC",
        "outputId": "e3f8c2dd-8d16-4c50-f46a-aa69a7343568"
      },
      "execution_count": null,
      "outputs": [
        {
          "output_type": "stream",
          "name": "stdout",
          "text": [
            "6584\n"
          ]
        }
      ]
    },
    {
      "cell_type": "code",
      "source": [],
      "metadata": {
        "id": "afYggwvX2fdI"
      },
      "execution_count": null,
      "outputs": []
    },
    {
      "cell_type": "code",
      "source": [
        "from keras.models import Sequential\n",
        "from keras.layers import Embedding, Bidirectional, LSTM, Dense\n",
        "\n",
        "vocab_size = 10000  # Adjust based on your vocabulary size\n",
        "embedding_dim = 300\n",
        "max_sequence_length = 300  # Adjust based on your maximum review length\n",
        "\n",
        "model = Sequential()\n",
        "model.add(Embedding(vocab_size, embedding_dim, input_length=max_sequence_length))\n",
        "model.add(Bidirectional(LSTM(128)))  # Bidirectional layer\n",
        "model.add(Dense(1, activation='linear'))  # Assuming rating is a numerical value\n",
        "\n",
        "model.compile(optimizer='adam', loss='mean_absolute_error')\n",
        "\n",
        "\n"
      ],
      "metadata": {
        "id": "g6x-jZGQmXu2"
      },
      "execution_count": null,
      "outputs": []
    },
    {
      "cell_type": "code",
      "source": [
        "model.fit(conc_emb_reduced_train, train_labels, validation_data=(conc_emb_reduced_train, train_labels), epochs=10, batch_size=32)\n"
      ],
      "metadata": {
        "colab": {
          "base_uri": "https://localhost:8080/"
        },
        "id": "Jsnr7-jPPiCH",
        "outputId": "fe814391-7d15-49ef-8663-9e5e3f4d699c"
      },
      "execution_count": null,
      "outputs": [
        {
          "output_type": "stream",
          "name": "stdout",
          "text": [
            "Epoch 1/10\n",
            "250/250 [==============================] - 59s 37ms/step - loss: 0.9304 - val_loss: 0.8561\n",
            "Epoch 2/10\n",
            "250/250 [==============================] - 9s 34ms/step - loss: 0.8266 - val_loss: 0.8115\n",
            "Epoch 3/10\n",
            "250/250 [==============================] - 9s 35ms/step - loss: 0.8195 - val_loss: 0.8162\n",
            "Epoch 4/10\n",
            "250/250 [==============================] - 8s 31ms/step - loss: 0.8254 - val_loss: 0.8174\n",
            "Epoch 5/10\n",
            "250/250 [==============================] - 8s 33ms/step - loss: 0.8196 - val_loss: 0.8088\n",
            "Epoch 6/10\n",
            "250/250 [==============================] - 8s 33ms/step - loss: 0.8245 - val_loss: 0.8083\n",
            "Epoch 7/10\n",
            "250/250 [==============================] - 8s 31ms/step - loss: 0.8138 - val_loss: 0.8253\n",
            "Epoch 8/10\n",
            "250/250 [==============================] - 9s 35ms/step - loss: 0.8141 - val_loss: 0.8149\n",
            "Epoch 9/10\n",
            "250/250 [==============================] - 8s 32ms/step - loss: 0.8204 - val_loss: 0.8209\n",
            "Epoch 10/10\n",
            "250/250 [==============================] - 8s 31ms/step - loss: 0.8140 - val_loss: 0.8086\n"
          ]
        },
        {
          "output_type": "execute_result",
          "data": {
            "text/plain": [
              "<keras.callbacks.History at 0x7a80d8c59ae0>"
            ]
          },
          "metadata": {},
          "execution_count": 76
        }
      ]
    },
    {
      "cell_type": "code",
      "source": [
        "predictions = model.predict(conc_emb_reduced_test)\n"
      ],
      "metadata": {
        "colab": {
          "base_uri": "https://localhost:8080/"
        },
        "id": "oN29ZsRvPkqs",
        "outputId": "4fdf5023-dc04-447a-e117-e8c16b1c173a"
      },
      "execution_count": null,
      "outputs": [
        {
          "output_type": "stream",
          "name": "stdout",
          "text": [
            "63/63 [==============================] - 1s 8ms/step\n"
          ]
        }
      ]
    },
    {
      "cell_type": "code",
      "source": [
        "# Calculate accuracy\n",
        "from sklearn.metrics import mean_absolute_error\n",
        "\n",
        "mae = mean_absolute_error(test_labels, predictions)\n",
        "print(f\"Mean Absolute Error using bi LSTM: {mae:.4f}\")\n"
      ],
      "metadata": {
        "colab": {
          "base_uri": "https://localhost:8080/"
        },
        "id": "jsWVTADgPm4k",
        "outputId": "115f8b54-dd08-4c11-c234-085d9d117559"
      },
      "execution_count": null,
      "outputs": [
        {
          "output_type": "stream",
          "name": "stdout",
          "text": [
            "Mean Absolute Error using bi LSTM: 0.8058\n"
          ]
        }
      ]
    },
    {
      "cell_type": "code",
      "source": [],
      "metadata": {
        "id": "dWWeFAQd3sca"
      },
      "execution_count": null,
      "outputs": []
    },
    {
      "cell_type": "code",
      "source": [
        "from keras.models import Sequential\n",
        "from keras.layers import Embedding, GRU, Dense\n",
        "\n",
        "vocab_size = 10000  # Adjust based on your vocabulary size\n",
        "embedding_dim = 300\n",
        "max_sequence_length = 300  # Adjust based on your maximum review length\n",
        "\n",
        "model = Sequential()\n",
        "model.add(Embedding(vocab_size, embedding_dim, input_length=max_sequence_length))\n",
        "model.add(GRU(128))  # GRU layer\n",
        "model.add(Dense(1, activation='linear'))  # Assuming rating is a numerical value\n",
        "\n",
        "model.compile(optimizer='adam', loss='mean_squared_error')\n"
      ],
      "metadata": {
        "id": "wYedzQEIPqvS"
      },
      "execution_count": null,
      "outputs": []
    },
    {
      "cell_type": "code",
      "source": [
        "model.fit(conc_emb_reduced_train, train_labels, validation_data=(conc_emb_reduced_train, train_labels), epochs=10, batch_size=32)\n"
      ],
      "metadata": {
        "colab": {
          "base_uri": "https://localhost:8080/"
        },
        "id": "zPk-dw27ReSk",
        "outputId": "2e73cf29-c62b-449c-f49a-ca1c4ee3273f"
      },
      "execution_count": null,
      "outputs": [
        {
          "output_type": "stream",
          "name": "stdout",
          "text": [
            "Epoch 1/10\n",
            "250/250 [==============================] - 8s 20ms/step - loss: 2.0120 - val_loss: 1.5116\n",
            "Epoch 2/10\n",
            "250/250 [==============================] - 4s 17ms/step - loss: 1.5469 - val_loss: 1.5239\n",
            "Epoch 3/10\n",
            "250/250 [==============================] - 5s 19ms/step - loss: 1.5350 - val_loss: 1.5178\n",
            "Epoch 4/10\n",
            "250/250 [==============================] - 4s 17ms/step - loss: 1.5384 - val_loss: 1.5248\n",
            "Epoch 5/10\n",
            "250/250 [==============================] - 4s 18ms/step - loss: 1.5296 - val_loss: 1.5184\n",
            "Epoch 6/10\n",
            "250/250 [==============================] - 5s 19ms/step - loss: 1.5270 - val_loss: 1.5355\n",
            "Epoch 7/10\n",
            "250/250 [==============================] - 4s 17ms/step - loss: 1.5324 - val_loss: 1.5972\n",
            "Epoch 8/10\n",
            "250/250 [==============================] - 5s 20ms/step - loss: 1.5301 - val_loss: 1.5103\n",
            "Epoch 9/10\n",
            "250/250 [==============================] - 5s 20ms/step - loss: 1.5299 - val_loss: 1.5597\n",
            "Epoch 10/10\n",
            "250/250 [==============================] - 4s 17ms/step - loss: 1.5299 - val_loss: 1.5393\n"
          ]
        },
        {
          "output_type": "execute_result",
          "data": {
            "text/plain": [
              "<keras.callbacks.History at 0x7a80e05f4910>"
            ]
          },
          "metadata": {},
          "execution_count": 80
        }
      ]
    },
    {
      "cell_type": "code",
      "source": [
        "predictions = model.predict(conc_emb_reduced_test)\n"
      ],
      "metadata": {
        "colab": {
          "base_uri": "https://localhost:8080/"
        },
        "id": "-aWLZBKQRg28",
        "outputId": "c2dd39d3-7cc3-4552-e99f-92045f72d65c"
      },
      "execution_count": null,
      "outputs": [
        {
          "output_type": "stream",
          "name": "stdout",
          "text": [
            "63/63 [==============================] - 1s 7ms/step\n"
          ]
        }
      ]
    },
    {
      "cell_type": "code",
      "source": [
        "# Calculate accuracy\n",
        "from sklearn.metrics import mean_absolute_error\n",
        "\n",
        "mae = mean_absolute_error(test_labels, predictions)\n",
        "print(f\"Mean Absolute Error: {mae:.4f}\")\n",
        "# print(f\"Accuracy using Decision Tree model: {mae:.4f}\")\n",
        "\n",
        "# report = classification_report(test_labels, predictions)\n",
        "\n",
        "# Print the report\n",
        "# print(report)"
      ],
      "metadata": {
        "colab": {
          "base_uri": "https://localhost:8080/"
        },
        "id": "l9PcvatvRi_7",
        "outputId": "576d8884-35af-4592-84ba-5d73c1722a55"
      },
      "execution_count": null,
      "outputs": [
        {
          "output_type": "stream",
          "name": "stdout",
          "text": [
            "Mean Absolute Error: 1.0036\n"
          ]
        }
      ]
    },
    {
      "cell_type": "code",
      "source": [
        "from keras.models import Sequential\n",
        "from keras.layers import Embedding, Bidirectional, GRU, Dense\n",
        "\n",
        "vocab_size = 10000  # Adjust based on your vocabulary size\n",
        "embedding_dim = 300\n",
        "max_sequence_length = 300  # Adjust based on your maximum review length\n",
        "\n",
        "model = Sequential()\n",
        "model.add(Embedding(vocab_size, embedding_dim, input_length=max_sequence_length))\n",
        "model.add(Bidirectional(GRU(128)))\n",
        "model.add(Dense(1, activation='linear'))  # Assuming rating is a numerical value\n",
        "\n",
        "model.compile(optimizer='adam', loss='mean_squared_error')\n"
      ],
      "metadata": {
        "id": "4TXFgnX2RlHL"
      },
      "execution_count": null,
      "outputs": []
    },
    {
      "cell_type": "code",
      "source": [
        "model.fit(conc_emb_reduced_train, train_labels, validation_data=(conc_emb_reduced_train, train_labels), epochs=10, batch_size=32)\n"
      ],
      "metadata": {
        "colab": {
          "base_uri": "https://localhost:8080/"
        },
        "id": "u0OTscNLStfg",
        "outputId": "5eba4b69-3c9c-4672-a213-f94a302a6dca"
      },
      "execution_count": null,
      "outputs": [
        {
          "output_type": "stream",
          "name": "stdout",
          "text": [
            "Epoch 1/10\n",
            "250/250 [==============================] - 13s 37ms/step - loss: 1.9845 - val_loss: 1.5181\n",
            "Epoch 2/10\n",
            "250/250 [==============================] - 8s 32ms/step - loss: 1.5374 - val_loss: 1.5195\n",
            "Epoch 3/10\n",
            "250/250 [==============================] - 8s 31ms/step - loss: 1.5426 - val_loss: 1.5461\n",
            "Epoch 4/10\n",
            "250/250 [==============================] - 8s 32ms/step - loss: 1.5354 - val_loss: 1.6588\n",
            "Epoch 5/10\n",
            "250/250 [==============================] - 8s 33ms/step - loss: 1.5532 - val_loss: 1.5636\n",
            "Epoch 6/10\n",
            "250/250 [==============================] - 8s 33ms/step - loss: 1.5285 - val_loss: 1.5136\n",
            "Epoch 7/10\n",
            "250/250 [==============================] - 8s 34ms/step - loss: 1.5385 - val_loss: 1.5789\n",
            "Epoch 8/10\n",
            "250/250 [==============================] - 8s 33ms/step - loss: 1.5306 - val_loss: 1.5107\n",
            "Epoch 9/10\n",
            "250/250 [==============================] - 8s 33ms/step - loss: 1.5305 - val_loss: 1.5152\n",
            "Epoch 10/10\n",
            "250/250 [==============================] - 8s 34ms/step - loss: 1.5294 - val_loss: 1.5128\n"
          ]
        },
        {
          "output_type": "execute_result",
          "data": {
            "text/plain": [
              "<keras.callbacks.History at 0x7a8091cc8820>"
            ]
          },
          "metadata": {},
          "execution_count": 84
        }
      ]
    },
    {
      "cell_type": "code",
      "source": [
        "predictions = model.predict(conc_emb_reduced_test)\n"
      ],
      "metadata": {
        "colab": {
          "base_uri": "https://localhost:8080/"
        },
        "id": "5Te5FFzoS30e",
        "outputId": "2fd4db70-f6ad-4262-f99f-70ae3a9b4a40"
      },
      "execution_count": null,
      "outputs": [
        {
          "output_type": "stream",
          "name": "stdout",
          "text": [
            "63/63 [==============================] - 1s 10ms/step\n"
          ]
        }
      ]
    },
    {
      "cell_type": "code",
      "source": [
        "# Calculate accuracy\n",
        "from sklearn.metrics import mean_absolute_error\n",
        "\n",
        "mae = mean_absolute_error(test_labels, predictions)\n",
        "print(f\"Mean Absolute Error with bi gru: {mae:.4f}\")\n",
        "# print(f\"Accuracy using Decision Tree model: {mae:.4f}\")\n",
        "\n",
        "# report = classification_report(test_labels, predictions)\n",
        "\n",
        "# Print the report\n",
        "# print(report)"
      ],
      "metadata": {
        "colab": {
          "base_uri": "https://localhost:8080/"
        },
        "id": "ZgkiybmuS6VG",
        "outputId": "91289cef-0fef-426a-b5db-5227c7e5124c"
      },
      "execution_count": null,
      "outputs": [
        {
          "output_type": "stream",
          "name": "stdout",
          "text": [
            "Mean Absolute Error with bi gru: 1.2622\n"
          ]
        }
      ]
    },
    {
      "cell_type": "code",
      "source": [],
      "metadata": {
        "id": "ycqy2cSeS9Yv"
      },
      "execution_count": null,
      "outputs": []
    }
  ]
}